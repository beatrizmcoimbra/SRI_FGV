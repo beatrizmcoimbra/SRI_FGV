{
 "cells": [
  {
   "cell_type": "code",
   "execution_count": 1,
   "metadata": {},
   "outputs": [],
   "source": [
    "import json as js\n",
    "import numpy as np\n",
    "import pandas as pd\n",
    "from nltk.tokenize import WordPunctTokenizer\n",
    "from nltk.corpus import stopwords\n",
    "import string\n",
    "from collections import defaultdict, OrderedDict\n",
    "from nltk.stem.snowball import PortugueseStemmer\n",
    "from nltk.corpus import wordnet, stopwords\n",
    "import matplotlib.pyplot as plt\n",
    "from pandas.io.json import json_normalize\n",
    "from collections import Counter, OrderedDict\n",
    "import itertools\n",
    "from gensim import corpora, models, similarities\n",
    "import whoosh\n",
    "from whoosh.fields import *\n",
    "from whoosh.qparser import QueryParser\n",
    "from whoosh.index import create_in, open_dir\n",
    "import os\n",
    "import seaborn as sns\n",
    "from pprint import pprint\n",
    "from gensim.models.coherencemodel import CoherenceModel\n",
    "from gensim.models.fasttext import FastText as FT_gensim\n",
    "from gensim.test.utils import datapath\n",
    "\n",
    "from sklearn.ensemble import RandomForestClassifier, VotingClassifier\n",
    "from sklearn.ensemble import ExtraTreesClassifier\n",
    "from sklearn.metrics import classification_report\n",
    "from sklearn.model_selection import StratifiedKFold, cross_val_score, cross_val_predict, train_test_split\n",
    "from sklearn.metrics import roc_curve, auc\n",
    "from sklearn.preprocessing import StandardScaler\n",
    "from sklearn.feature_extraction.text import TfidfVectorizer\n",
    "from gensim.models import Word2Vec, word2vec\n",
    "\n",
    "# Fonte dos dados utilizados: https://www.kaggle.com/jorgefjr/brazilian-songs-lyrics"
   ]
  },
  {
   "cell_type": "markdown",
   "metadata": {},
   "source": [
    "Carregando as letras"
   ]
  },
  {
   "cell_type": "code",
   "execution_count": 2,
   "metadata": {},
   "outputs": [],
   "source": [
    "data_axe = pd.read_csv('letras_mus_br_axe.csv', usecols=['titulo','artista','letras'])\n",
    "data_bossa = pd.read_csv('letras_mus_br_bossa-nova.csv', usecols=['titulo','artista','letras'])\n",
    "data_forro = pd.read_csv('letras_mus_br_forro.csv', usecols=['titulo','artista','letras'])\n",
    "data_funk = pd.read_csv('letras_mus_br_funk.csv', usecols=['titulo','artista','letras'])\n",
    "data_gospel = pd.read_csv('letras_mus_br_gospel.csv', usecols=['titulo','artista','letras'])\n",
    "data_pagode = pd.read_csv('letras_mus_br_pagode.csv', usecols=['titulo','artista','letras'])\n",
    "data_samba = pd.read_csv('letras_mus_br_samba.csv', usecols=['titulo','artista','letras'])\n",
    "data_sertanejo = pd.read_csv('letras_mus_br_sertanejo.csv', usecols=['titulo','artista','letras'])\n",
    "\n",
    "data_axe['genero'] = 'axe'\n",
    "data_bossa['genero'] = 'bossa'\n",
    "data_forro['genero'] = 'forro'\n",
    "data_funk['genero'] = 'funk'\n",
    "data_gospel['genero'] = 'gospel'\n",
    "data_pagode['genero'] = 'pagode'\n",
    "data_samba['genero'] = 'samba'\n",
    "data_sertanejo['genero'] = 'sertanejo'"
   ]
  },
  {
   "cell_type": "code",
   "execution_count": 3,
   "metadata": {},
   "outputs": [],
   "source": [
    "full_data = pd.concat([data_axe,\n",
    "                       data_bossa,\n",
    "                       data_forro,\n",
    "                       data_funk,\n",
    "                       data_gospel,\n",
    "                       data_pagode,\n",
    "                       data_samba, \n",
    "                       data_sertanejo], axis=0).reset_index()[['titulo','artista','letras', 'genero']]\n",
    "\n",
    "full_data.rename(columns={'letras':'letra'}, inplace=True)"
   ]
  },
  {
   "cell_type": "code",
   "execution_count": 4,
   "metadata": {},
   "outputs": [
    {
     "data": {
      "text/html": [
       "<div>\n",
       "<style scoped>\n",
       "    .dataframe tbody tr th:only-of-type {\n",
       "        vertical-align: middle;\n",
       "    }\n",
       "\n",
       "    .dataframe tbody tr th {\n",
       "        vertical-align: top;\n",
       "    }\n",
       "\n",
       "    .dataframe thead th {\n",
       "        text-align: right;\n",
       "    }\n",
       "</style>\n",
       "<table border=\"1\" class=\"dataframe\">\n",
       "  <thead>\n",
       "    <tr style=\"text-align: right;\">\n",
       "      <th></th>\n",
       "      <th>titulo</th>\n",
       "      <th>artista</th>\n",
       "      <th>letra</th>\n",
       "      <th>genero</th>\n",
       "    </tr>\n",
       "  </thead>\n",
       "  <tbody>\n",
       "    <tr>\n",
       "      <th>0</th>\n",
       "      <td>10 Beijos de Rua</td>\n",
       "      <td>Léo Santana</td>\n",
       "      <td>Acabou outra vez. Foi cena repetida. Um tchau...</td>\n",
       "      <td>axe</td>\n",
       "    </tr>\n",
       "    <tr>\n",
       "      <th>1</th>\n",
       "      <td>Quando a Chuva Passar</td>\n",
       "      <td>Ivete Sangalo</td>\n",
       "      <td>Pra que falar. Se você não quer me ouvir. Fug...</td>\n",
       "      <td>axe</td>\n",
       "    </tr>\n",
       "    <tr>\n",
       "      <th>2</th>\n",
       "      <td>Anjo</td>\n",
       "      <td>Saulo Fernandes</td>\n",
       "      <td>Hoje eu acordei mais cedo. E fiquei te olhand...</td>\n",
       "      <td>axe</td>\n",
       "    </tr>\n",
       "    <tr>\n",
       "      <th>3</th>\n",
       "      <td>O Que Seria</td>\n",
       "      <td>Carlinhos Brown</td>\n",
       "      <td>Quem sabe nem era pra ser nossa. Aquela lua a...</td>\n",
       "      <td>axe</td>\n",
       "    </tr>\n",
       "    <tr>\n",
       "      <th>4</th>\n",
       "      <td>Um Sinal (part. Melim)</td>\n",
       "      <td>Ivete Sangalo</td>\n",
       "      <td>Eu jamais quis deixar você ir. Mas quem de nó...</td>\n",
       "      <td>axe</td>\n",
       "    </tr>\n",
       "  </tbody>\n",
       "</table>\n",
       "</div>"
      ],
      "text/plain": [
       "                   titulo          artista  \\\n",
       "0        10 Beijos de Rua      Léo Santana   \n",
       "1   Quando a Chuva Passar    Ivete Sangalo   \n",
       "2                    Anjo  Saulo Fernandes   \n",
       "3             O Que Seria  Carlinhos Brown   \n",
       "4  Um Sinal (part. Melim)    Ivete Sangalo   \n",
       "\n",
       "                                               letra genero  \n",
       "0   Acabou outra vez. Foi cena repetida. Um tchau...    axe  \n",
       "1   Pra que falar. Se você não quer me ouvir. Fug...    axe  \n",
       "2   Hoje eu acordei mais cedo. E fiquei te olhand...    axe  \n",
       "3   Quem sabe nem era pra ser nossa. Aquela lua a...    axe  \n",
       "4   Eu jamais quis deixar você ir. Mas quem de nó...    axe  "
      ]
     },
     "execution_count": 4,
     "metadata": {},
     "output_type": "execute_result"
    }
   ],
   "source": [
    "full_data.head()"
   ]
  },
  {
   "cell_type": "markdown",
   "metadata": {},
   "source": [
    "Carregando stopwords e pontuação"
   ]
  },
  {
   "cell_type": "code",
   "execution_count": 5,
   "metadata": {},
   "outputs": [],
   "source": [
    "pontuacao = list(string.punctuation)\n",
    "lixo = stopwords.words('portuguese') + pontuacao + ['..', ',.', '..', '...', '....', '.....', ')', '('] \n",
    "stemmer = PortugueseStemmer()"
   ]
  },
  {
   "cell_type": "markdown",
   "metadata": {},
   "source": [
    "Preparando as letras"
   ]
  },
  {
   "cell_type": "code",
   "execution_count": 6,
   "metadata": {},
   "outputs": [],
   "source": [
    "letras = [letra for letra in list(full_data['letra'])]\n",
    "letras_limpas = []\n",
    "tokenizador = WordPunctTokenizer()\n",
    "\n",
    "# limpando\n",
    "for letra in letras:\n",
    "    l_limpa = [stemmer.stem(token.lower()) for token in tokenizador.tokenize(letra) if token not in lixo]\n",
    "    letras_limpas.append(l_limpa)"
   ]
  },
  {
   "cell_type": "code",
   "execution_count": 7,
   "metadata": {},
   "outputs": [
    {
     "data": {
      "text/plain": [
       "['por',\n",
       " 'onde',\n",
       " 'floresc',\n",
       " 'seren',\n",
       " 'águ',\n",
       " 'poc',\n",
       " 'risqu',\n",
       " 'palavr',\n",
       " 'fei',\n",
       " 'e']"
      ]
     },
     "execution_count": 7,
     "metadata": {},
     "output_type": "execute_result"
    }
   ],
   "source": [
    "letras_limpas[20][:10]"
   ]
  },
  {
   "cell_type": "markdown",
   "metadata": {},
   "source": [
    "# Indexação"
   ]
  },
  {
   "cell_type": "markdown",
   "metadata": {},
   "source": [
    "Construindo uma função de busca."
   ]
  },
  {
   "cell_type": "code",
   "execution_count": 8,
   "metadata": {},
   "outputs": [],
   "source": [
    "indice_frase = defaultdict(lambda: defaultdict(list))\n",
    "\n",
    "for text_id, text in enumerate(letras_limpas):\n",
    "    for token_id, token in enumerate(text):\n",
    "        indice_frase[token][text_id].append(token_id)\n",
    "        \n",
    "\n",
    "def aux_procura_trecho(frase, index):\n",
    "    tokens = [stemmer.stem(token.strip(string.punctuation + \" \"+\"\").lower()) for token in WordPunctTokenizer().tokenize(frase) if token not in lixo]\n",
    "     \n",
    "    matches = defaultdict(lambda:defaultdict(lambda:set([])))\n",
    "    for token in tokens:\n",
    "        matches[token] = index[token]\n",
    "    \n",
    "    documents = set(matches[tokens[0]])\n",
    "    for token in tokens:\n",
    "        documents = documents.intersection(set(matches[token]))\n",
    "    \n",
    "    res = set([]) \n",
    "    for doc in documents:\n",
    "        for pos in matches[tokens[0]][doc]:\n",
    "            if all((pos + token_id + 1 in matches[token][doc]) for token_id, token in enumerate(tokens[1:len(tokens)])):\n",
    "                res.add(doc) \n",
    "                \n",
    "    return res\n",
    "\n",
    "\n",
    "def procura_trecho(frase):\n",
    "        \n",
    "    tokens = [stemmer.stem(token.strip(string.punctuation + \" \"+\"\").lower()) for token in WordPunctTokenizer().tokenize(frase) if token not in lixo]\n",
    " \n",
    "    res = aux_procura_trecho(frase, indice_frase)\n",
    "    \n",
    "    if res == set([]):\n",
    "        searcher = ix.searcher()\n",
    "        query = QueryParser(\"content\", ix.schema).parse(frase)\n",
    "        new_res = searcher.search(query)\n",
    "        return new_res.docs()\n",
    "    else:\n",
    "        return res\n",
    "    \n",
    "\n",
    "def printa_musicas(frase):\n",
    "    resultado = procura_trecho(frase)\n",
    "    c = 0\n",
    "    for i in resultado:\n",
    "        print(c+1,')','\"',full_data.titulo[i],'\"','\\n',full_data.letra[i],'\\n')\n",
    "        c += 1\n",
    "        \n",
    "        if c == 10:\n",
    "            break\n",
    "\n"
   ]
  },
  {
   "cell_type": "markdown",
   "metadata": {},
   "source": [
    "Exemplo de uso da função de busca:"
   ]
  },
  {
   "cell_type": "code",
   "execution_count": 9,
   "metadata": {
    "collapsed": true
   },
   "outputs": [
    {
     "name": "stdout",
     "output_type": "stream",
     "text": [
      "1 ) \" Meu Coração Deu PT (part. Matheus e Kauan) \" \n",
      "  Pegar meu violão. Um copo, uma cerveja. Um whisky e um cigarro. Eu não tô nada bem. Vi minha ex beijando. Outro dentro do carro. Não sei por que me ligou. Com saudade, chorando. Carente, implorando, querendo voltar. Eu não fiquei com ninguém. Te esperando, confiei demais. Me enganei de novo, quebrei a cara. Mais uma vez, eu tomei porre por você. Mais uma vez, o meu coração deu PT. A culpa é sua. Se eu tô aqui jogado no meio da rua. Me deixa aqui sofrendo. Eu não quero ajuda. Eu fui tão inocente por acreditar. Que ainda me amava. E agora fala. Que droga de amor é esse que sentia. Ontem eu era o amor da sua vida. E hoje eu sou o quê. E hoje eu sou o quê. Hoje eu sou passado pra você.   \n",
      "\n",
      "2 ) \" Festa de Vaquejada \" \n",
      "  Dá pra ver de longe que tem vaquejada. A poeira sobe e o chicote estrala. Mulher pra todo lado de bota e chapéu. Tem loira e tem morena dos olhos cor de mel. Locutor chamando pra correr o gado. Vaqueiro bebendo, cavalo selado. A mulherada grita da arquibancada. Bebendo uísque e cerveja gelada. E o vaqueiro. Corre dentro da pista em seu cavalo alazão. Quando chega na faixa derruba o boi no chão. Assim é vaquejada assim é meu sertão.   \n",
      "\n",
      "3 ) \" Noites Frustradas (part. Gusttavo Lima) \" \n",
      "  Esse seu beijo com gosto de cigarro e de cerveja. Tá impossível disfarçar. Conta aí, vai aguentar quanto tempo pra desistir. Se eu sou seu fim de noite. Fim da sua carência. A última chamada dessa sua agenda. Quando seu coração pede socorro. Sem nenhuma cerimônia eu atendo de novo. E aí, não achou ninguém melhor que eu. E aí, até quando vou ser o BandAid pras suas madrugadas. Vai buscar amor lá fora e volta machucada. E aí, não achou ninguém melhor que eu. E aí, até quando vou ser o BandAid pras suas madrugadas. Vai buscar amor lá fora e volta machucada. Sou eu o remédio pras suas noites frustradas. Se eu sou seu fim de noite. Fim da sua carência. A última chamada dessa sua agenda. Quando seu coração pede socorro. Sem nenhuma cerimônia eu atendo de novo. E aí, não achou ninguém melhor que eu. E aí, até quando vou ser o BandAid das suas madrugadas. Vai buscar amor lá fora e volta machucada. E aí, não achou ninguém melhor que eu. E aí, até quando vou ser o Bandaid pras suas madrugadas. Vai buscar amor lá fora e volta machucada. Sou eu o remédio pras suas noites frustradas. Esse seu beijo com gosto de cigarro e de cerveja. Tá impossível disfarçar. Conta aí, vai aguentar quanto tempo pra desistir. Se eu sou seu fim de noite. Fim da sua carência. A última chamada dessa sua agenda. Quando seu coração pede socorro. Sem nenhuma cerimônia eu atendo de novo. E aí, não achou ninguém melhor que eu. E aí, até quando vou ser o band aid pras suas madrugadas. Vai buscar amor lá fora e volta machucada. E aí, não achou ninguém melhor que eu. E aí, até quando vou ser o band aid pras suas madrugadas. Vai buscar amor lá fora e volta machucada. Sou eu o remédio pras suas noites frustradas. Se eu sou seu fim de noite. Fim da sua carência. A última chamada dessa sua agenda. Quando seu coração pede socorro. Sem nenhuma cerimônia eu atendo de novo. E aí, não achou ninguém melhor que eu. E aí, até quando vou ser o BandAid das suas madrugadas. Vai buscar amor lá fora e volta machucada. E aí, não achou ninguém melhor que eu. E aí, até quando vou ser o BandAid pras suas madrugadas. Vai buscar amor lá fora e volta machucada. Sou eu o remédio pras suas noites frustradas.   \n",
      "\n",
      "4 ) \" Playboy Fazendeiro \" \n",
      "  Tenho muito gado no pasto e o bolso cheio de dinheiro. Quem foi que chegou. O playboy fazendeiro. Olha que eu tenho uma Hilux. Uma Amarok e uma Pajero. Quem foi que chegou. O playboy fazendeiro. Olha que eu moro na cidade. Mas no fim de semana vou pra minha fazenda fazer aquela farra. Convido a mulherada, só do tipo Panicat. Vai rolar uísque e cerveja bem gelada. Paredão ligado, as minas descem até embaixo. Mandei matar um boi pra fazer aquele churrasco. Aqui é só sossego, é só tranquilidade. Eu sou um fazendeiro que mora na cidade. Tenho muito gado no pasto e o bolso cheio de dinheiro. Quem foi que chegou. O playboy fazendeiro. Olha que eu tenho uma Hilux. Uma Amarok e uma Pajero. Quem foi que chegou. O playboy fazendeiro.   \n",
      "\n",
      "5 ) \" Cachaça, Mulher e Gaia \" \n",
      "  Hoje é cachaça, mulher e gaia,. Aumenta o som que não güentar que saia,. Sou Cavaleiro, sou rei da gandaia,. Bote esse corno pra fora de casa.. É desmantelo no meio da canela,. Eu digo hoje tem corno fechando a janela,. Morrendo de medo porque eu tô na área,. Coçando a cabeça pensando na gaia.. Eu disse é desmantelo no meio da canela,. Hoje tem corno fechando a janela,. Morrendo de medo porque eu tô na área,. Coçando a cabeça pensando na gaia.. Mande esse corno passear,. Mande ele se divertir.. Bote o tira gosto na mesa,. Traga mais uma cerveja,. Hoje eu vou dormir aí.. Já que ele não dá conta,. Hoje vai levar é ponta,. Porque eu vou dormi aí.. Eu disse, hoje é cachaça, mulher e gaia,. Aumenta o som quem não güentar que saia,. Sou Cavaleiro, sou rei da gandaia,. Bote esse corno pra fora de casa. (2x). É desmantelo no meio da canela,. Eu digo hoje tem corno fechando a janela,. Morrendo de medo porque eu tô na área,. Coçando a cabeça pensando na gaia.. Eu disse é desmantelo no meio da canela,. Hoje tem corno fechando a janela,. Morrendo de medo porque eu tô na área,. Coçando a cabeça pensando na gaia.. Mande esse corno passear,. Mande ele se divertir.. Bote o tira gosto na mesa,. Traga mais uma cerveja,. Hoje eu vou dormir aí.. Já que ele não dá conta,. Hoje vai levar é ponta,. Porque eu vou dormir aí.. Eu disse, hoje é cachaça, mulher e gaia,. Aumenta o som quem não güentar que saia.. Sou Cavaleiro, sou rei da gandaia.. Bote esse corno pra fora de casa. (2x).   \n",
      "\n",
      "6 ) \" Como Faz Com Ela \" \n",
      "  Vai se preparando que eu não vou ter paciência. Se acha que eu não sei o que aprontou na minha ausência. Não vou deixar barato. Não vou fingir que não vi. Eu já fiquei sabendo. De outras bocas por ai. Do copo de cerveja, com delicadeza. Ofereceu pra aquela moça sentar na sua mesa. Não venha me dizer que foi só por educação. Eu sei que tá querendo me levar na conversa. Mas se você soubesse o que realmente me interessa. É saber se você faz amor comigo como faz com ela. Se quando beija, morde a boca dela. Fala besteira no ouvido, como faz comigo. Tudo o que eu preciso. É saber se você faz amor comigo como faz com ela. Se quando beija, morde a boca dela. Fala besteira no ouvido, como faz comigo. Tudo o que eu preciso. É saber se você faz amor comigo como faz com ela, ôôô. Se é melhor com ela. Do copo de cerveja, com delicadeza. Ofereceu pra aquela moça sentar na sua mesa. Não venha me dizer que foi só por educação. Eu sei que tá querendo me levar na conversa. Mas se você soubesse o que realmente me interessa. É saber se você faz amor comigo como faz com ela. Se quando beija, morde a boca dela. Fala besteira no ouvido, como faz comigo. Tudo o que eu preciso. É saber se você faz amor comigo como faz com ela. Se quando beija, morde a boca dela. Fala besteira no ouvido, como faz comigo. Tudo o que eu preciso. É saber se você faz amor comigo como faz com ela, ôôô. Se é melhor com ela. Saber se você faz amor comigo como faz com ela. Se quando beija, morde a boca dela. Fala besteira no ouvido, como faz comigo. Tudo o que eu preciso. É saber se você faz amor comigo como faz com ela, ôôô. Se é melhor com ela. Saber se você faz amor comigo como faz com ela.   \n",
      "\n",
      "7 ) \" Meu Mundo (part. WCnoBeat, MC Cabelinho, Orochi e PK) \" \n",
      "  [Orochi]. Muito calma, tipo um furacão, yeah. Ela pegou minha visão, yeah. De batom vermelho e salto alto. Bebendo com cigarro na mão. A maldade do mundo no olhar. Hoje eu só quero te alcoolizar. Te dizer palavras excitantes. Sei que rapidin tu vai se libertar. E ela pergunta porque eu sou assim. Tranquilão, tipo a onda do lean. Percebendo que ela tava afim. Rebolando essa bunda pra mim. Essa bunda me deu xequemate. Mais gostosa do que chocolate. Poderosa e preta, tipo a Iza. Porra, será que essa bunda é de verdade. Uísque e blunt, é o rap, é o funk. O dólar sujo, um diamante, um desastrado, um elegante. Um pervertido, um traficante, um cara humilde, um arrogante. Inofensivo, extravagante. Ou só mais um alcoolizado. Atrás de um balde de cerveja. Essa noite eu posso ser eu mesmo. Mas também posso ser tudo que você quiser que eu seja. Ela joga na cara e me estiga. Saciando minha tara e na brisa. Ela senta na vara e convida as amiga safada. WC no comando da putaria. Lançando mais uma para todas as mulher. Não adianta ficar de neurose, nessa noite, linda, porque. [MC Cabelinho]. Sei que você quer um pouco da minha brisa. Sei que você gosta muito desse clima. Desse jeito louco e da minha pegada. Gata, só não posso te levar pra casa. Isso não te impede de ficar comigo. Vai ser perda de tempo não aproveitar. Vivo no meu mundo, mas vivo perdido. Talvez amanhã eu não possa te encontrar. [MC Hariel]. Independentemente do seu belo visual. Au, au, au, au. Não é quesito seu corpo bonito e escultural. Au, au. Sei separar o que é sentimento. Do que não passa de atração carnal. Com você sei que é só sexo casual. Eu já não me importo se é loira ou morena. Ou se é japonesa de franja. Raridade na resenha. Põe brasa na lenha, as piranha se assanha. Nossa alcatéia é festeira. E se ela é baladeira, nós vamo adiante. Separa as interesseira das que interessa, das interessante. O que ela quer. Dar sorte grande na vida. Se ela engravidar do Cabelinho, do PK ou do Orochi. Tira aposentadoria. O que ela quer. Dar sorte grande na vida. Se ela engravidar do Raridade, do PK ou do Orochi. Tira aposentadoria. Independentemente do seu belo visual. Au, au, au, au. Não é quesito seu corpo bonito e escultural. Au, au. Sei separar o que é sentimento. Do que não passa de atração carnal. Então cala tua boca e chupa meu. [MC Cabelinho]. Sei que você quer um pouco da minha brisa. Sei que você gosta muito desse clima. Desse jeito louco e da minha pegada. Gata, só não posso te levar pra casa. Isso não te impede de ficar comigo. Vai ser perda de tempo não aproveitar. Vivo no meu mundo, mas vivo perdido. Talvez amanhã eu não possa te encontrar. [PK]. Nós andamos diferente. Ela percebe como a gente fala diferente. Somos diferente. É por isso que ela quer tá perto de nós. É diferente como nosso bonde faz a diferença. De olhar diferente eu percebo como a gente não é bemvindo aqui. Desse jeito tu me deixa louco. Meu tempo é pouco, então vem pra cá. Me pedindo aquilo que te excita. Eu te pego de jeito e tu vai voltar. Escuta tuas amiga quando elas falarem pra não se apegar. Porque eu não vivo a vida, a vida que me vive. E um dia nós vai se encontrar. Senta firme. Porque a vida é muito curta pra tu não me dar. Senta firme. Senta firme. Senta firme. Porque a vida é muito curta pra tu não me dar. Senta firme. Senta firme. [MC Cabelinho]. Sei que você quer um pouco da minha brisa. Sei que você gosta muito desse clima. Desse jeito louco e da minha pegada. Gata, só não posso te levar pra casa. Isso não te impede de ficar comigo. Vai ser perda de tempo não aproveitar. Vivo no meu mundo, mas vivo perdido. Talvez amanhã eu não possa te encontrar.   \n",
      "\n",
      "8 ) \" Nada Pra Fazer \" \n",
      "  Churrasco na brasa, cerveja gelada. Nada pra fazer, nada pra fazer. De bobeira em casa, com a rapaziada. Nada pra fazer, nada pra fazer. Vem sentir a energia que nos contagia ver todos cantando. Pois até me faz lembrar la do samba da doca. E o cacique de ramos. Deixa esse som te levar, sentir o corpo tremer. Nada pra fazer, nada pra fazer. Alegria em cada olhar, nos da orgulho e prazer. Nada pra fazer, nada pra fazer. Churrasco na brasa, cerveja gelada. Nada pra fazer, nada pra fazer. De bobeira em casa, com a rapaziada. Nada pra fazer, nada pra fazer. Esse samba que encanta, o povo chegando. Ninguém fica só. Olha essa preta do lado sensualizando seu borogodó. Tem até partido alto pra cantar em fá maior. E pra animar essa galera, vou cantar um bororó. Bororó, bororó, bororó, bororó.   \n",
      "\n",
      "9 ) \" Verdade Chinesa \" \n",
      "  Era só isso. Que eu queria da vida. Uma cerveja. Uma ilusão atrevida. Que me dissesse. Uma verdade chinesa. Com uma intenção. De um beijo doce na boca.... A tarde cai. Noite levanta a magia. Quem sabe a gente. Vai se ver outro dia. Quem sabe o sonho. Vai ficar na conversa. Quem sabe até a vida. Pague essa promessa.... Muita coisa a gente faz. Seguindo o caminho. Que o mundo traçou. Seguindo a cartilha. Que alguém ensinou. Seguindo a receita. Da vida normal.... Mas o que é. Vida afinal. Será que é fazer. O que o mestre mandou. É comer o pão. Que o diabo amassou. Perdendo da vida. O que tem de melhor.... Senta, se acomoda. À vontade, tá em casa. Toma um copo, dá um tempo. Que a tristeza vai passar. Deixa, prá amanhã. Tem muito tempo. O que vale. É o sentimento. E o amor que a gente. Tem no coração....   \n",
      "\n",
      "10 ) \" Vale Por Dez \" \n",
      "  A cerveja não me satisfaz. O cigarro não me acalma mais. O churrasco com os amigos já perdeu a graça. Na balada não tem diversão. Em outros beijos não sinto atração. E eu vejo o tempo passando, e a saudade não passa. Por mais que eu procure, sei que não vou encontrar. Alguém que chegue aos seus pés. Porque você é mais do que eu podia imaginar. É uma que vale por dez. Que vale por dez. Tchurururundowndowndown. Sem você, eu me sinto tão mal. Tô sentindo a falta de você. Se te machuquei, foi sem querer. Tchurururundowndowndown. Sem você, eu me sinto tão mal. Tô sentindo a falta de você. Se te machuquei, foi sem querer. A cerveja não me satisfaz. O cigarro não me acalma mais. O churrasco com os amigos já perdeu a graça. Na balada não tem diversão. Em outros beijos não sinto atração. E eu vejo o tempo passando, e a saudade não passa. Por mais que eu procure, sei que não vou encontrar. Alguém que chegue aos seus pés. Porque você é mais do que eu podia imaginar. É uma que vale por dez. Que vale por dez. Tchurururundowndowndown. Sem você, eu me sinto tão mal. Tô sentindo a falta de você. Se te machuquei, foi sem querer. Tchurururundowndowndown. Sem você, eu me sinto tão mal. Tô sentindo a falta de você. Se te machuquei, foi sem querer. Tchurururundowndowndown. Sem você, eu me sinto tão mal. Tô sentindo a falta de você. Se te machuquei, foi sem querer.   \n",
      "\n"
     ]
    }
   ],
   "source": [
    "printa_musicas('cerveja')"
   ]
  },
  {
   "cell_type": "markdown",
   "metadata": {},
   "source": [
    "# Modelagem de assuntos"
   ]
  },
  {
   "cell_type": "markdown",
   "metadata": {},
   "source": [
    "## Construindo um modelo LSI"
   ]
  },
  {
   "cell_type": "code",
   "execution_count": 12,
   "metadata": {},
   "outputs": [],
   "source": [
    "dic = corpora.Dictionary(letras_limpas)\n",
    "corpus = [dic.doc2bow(line) for line in letras_limpas]\n",
    "tfidf = models.TfidfModel(corpus)"
   ]
  },
  {
   "cell_type": "code",
   "execution_count": 13,
   "metadata": {},
   "outputs": [],
   "source": [
    "corpus_tfidf = tfidf[corpus]"
   ]
  },
  {
   "cell_type": "code",
   "execution_count": 14,
   "metadata": {},
   "outputs": [],
   "source": [
    "lsi = models.LsiModel(corpus_tfidf,\n",
    "                      id2word=dic,\n",
    "                      num_topics=8)\n",
    "\n",
    "corpus_lsi = lsi[corpus_tfidf]"
   ]
  },
  {
   "cell_type": "markdown",
   "metadata": {},
   "source": [
    "A justificativa para o número de tópicos ser igual a 8 baseia-se no fato de que, na verdade, estamos trabalhando com a junção de 8 conjuntos de dados, cada um contendo letras de um gênero musical específico. Por conta disso, arbitrariamente fiz o número de assuntos ser igual a 8 para verificar se conseguimos identificar claramente os 8 gêneros musicais aqui existentes."
   ]
  },
  {
   "cell_type": "code",
   "execution_count": 15,
   "metadata": {},
   "outputs": [
    {
     "data": {
      "text/plain": [
       "[(0, '0.150*\"amor\" + 0.131*\"quer\" + 0.131*\"eu\" + 0.128*\"vou\" + 0.121*\"vai\"'),\n",
       " (1,\n",
       "  '-0.396*\"deus\" + -0.309*\"ele\" + -0.270*\"senhor\" + -0.212*\"jesus\" + -0.178*\"ti\"'),\n",
       " (2, '0.325*\"ai\" + 0.221*\"samb\" + 0.218*\"tá\" + -0.189*\"amo\" + 0.167*\"vai\"'),\n",
       " (3, '-0.369*\"samb\" + 0.268*\"ele\" + 0.195*\"deus\" + 0.179*\"tô\" + -0.173*\"mar\"'),\n",
       " (4, '0.840*\"ai\" + -0.244*\"samb\" + 0.119*\"oh\" + -0.111*\"vai\" + 0.103*\"ti\"'),\n",
       " (5, '-0.273*\"oh\" + 0.269*\"ele\" + 0.249*\"ai\" + 0.229*\"deus\" + -0.190*\"ti\"'),\n",
       " (6, '-0.399*\"i\" + -0.347*\"the\" + -0.339*\"you\" + -0.197*\"and\" + -0.190*\"to\"'),\n",
       " (7,\n",
       "  '-0.626*\"samb\" + -0.159*\"vou\" + -0.156*\"ai\" + -0.146*\"senhor\" + 0.136*\"mar\"')]"
      ]
     },
     "execution_count": 15,
     "metadata": {},
     "output_type": "execute_result"
    }
   ],
   "source": [
    "lsi.show_topics(8,5)"
   ]
  },
  {
   "cell_type": "code",
   "execution_count": 16,
   "metadata": {},
   "outputs": [],
   "source": [
    "data = {i: OrderedDict(lsi.show_topic(i,8)) for i in range(8)}"
   ]
  },
  {
   "cell_type": "code",
   "execution_count": 17,
   "metadata": {},
   "outputs": [],
   "source": [
    "df_corpus_dic = pd.DataFrame(data)\n",
    "df_corpus_dic = df_corpus_dic.fillna(0).T"
   ]
  },
  {
   "cell_type": "code",
   "execution_count": 18,
   "metadata": {},
   "outputs": [
    {
     "data": {
      "text/plain": [
       "<seaborn.matrix.ClusterGrid at 0x7feb25754eb0>"
      ]
     },
     "execution_count": 18,
     "metadata": {},
     "output_type": "execute_result"
    },
    {
     "data": {
      "image/png": "[encoded data removed]",
      "text/plain": [
       "<Figure size 1080x1080 with 4 Axes>"
      ]
     },
     "metadata": {
      "needs_background": "light"
     },
     "output_type": "display_data"
    }
   ],
   "source": [
    "sns.clustermap(df_corpus_dic.corr(), \n",
    "               center=0, \n",
    "               cmap=\"vlag\", \n",
    "               metric='cosine',\n",
    "               linewidths=.75, \n",
    "               figsize=(15, 15))"
   ]
  },
  {
   "cell_type": "markdown",
   "metadata": {},
   "source": [
    "Vemos acima uma certa quantidade de palavras em outras línguas como inglês e espanhol, embora estejamos tratando apenas de músicas brasileiras. Considerei a possibilidade de retirar essas músicas da análise, no entanto, acredito que a presença de palavras em línguas estrangeiras represente um aspecto importante de certos gêneros musicais. Assim, esta característica será de grande ajuda posteriormente, quando formos treinar um modelo de classificação dos gêneros das canções a partir de suas letras."
   ]
  },
  {
   "cell_type": "markdown",
   "metadata": {},
   "source": [
    "## Construindo um modelo LDA"
   ]
  },
  {
   "cell_type": "code",
   "execution_count": 19,
   "metadata": {},
   "outputs": [],
   "source": [
    "lda_model = models.ldamodel.LdaModel(corpus, \n",
    "                                     id2word=dic, \n",
    "                                     num_topics=8, \n",
    "                                     passes=10)"
   ]
  },
  {
   "cell_type": "code",
   "execution_count": 20,
   "metadata": {},
   "outputs": [
    {
     "data": {
      "text/plain": [
       "[(0,\n",
       "  '0.027*\"e\" + 0.016*\"amor\" + 0.016*\"que\" + 0.015*\"a\" + 0.015*\"o\" + 0.011*\"cant\" + 0.011*\"mar\" + 0.010*\"é\" + 0.008*\"céu\" + 0.007*\"vem\"'),\n",
       " (1,\n",
       "  '0.041*\"i\" + 0.028*\"you\" + 0.027*\"the\" + 0.017*\"to\" + 0.014*\"s\" + 0.013*\"lov\" + 0.013*\"it\" + 0.013*\"and\" + 0.012*\"my\" + 0.011*\"in\"'),\n",
       " (2,\n",
       "  '0.029*\"pra\" + 0.024*\"eu\" + 0.021*\"amor\" + 0.020*\"e\" + 0.019*\"quer\" + 0.013*\"nã\" + 0.013*\"vou\" + 0.012*\"que\" + 0.010*\"faz\" + 0.010*\"mas\"'),\n",
       " (3,\n",
       "  '0.031*\"la\" + 0.018*\"y\" + 0.011*\"el\" + 0.011*\"mi\" + 0.009*\"un\" + 0.009*\"en\" + 0.009*\"le\" + 0.008*\"yo\" + 0.008*\"si\" + 0.007*\"que\"'),\n",
       " (4,\n",
       "  '0.035*\"ai\" + 0.025*\"samb\" + 0.024*\"lá\" + 0.018*\"ô\" + 0.018*\").\" + 0.017*\"oh\" + 0.015*\"vou\" + 0.010*\"dá\" + 0.009*\"prá\" + 0.008*\"o\"'),\n",
       " (5,\n",
       "  '0.020*\"pra\" + 0.017*\"sent\" + 0.017*\"vai\" + 0.016*\"é\" + 0.014*\"tá\" + 0.013*\"tô\" + 0.012*\"cê\" + 0.009*\"fal\" + 0.009*\"lig\" + 0.008*\"e\"'),\n",
       " (6,\n",
       "  '0.035*\"deus\" + 0.017*\"senhor\" + 0.016*\"ele\" + 0.013*\"e\" + 0.013*\"eu\" + 0.012*\"o\" + 0.011*\"pod\" + 0.010*\"jesus\" + 0.010*\"pra\" + 0.009*\"ti\"'),\n",
       " (7,\n",
       "  '0.027*\"vai\" + 0.020*\"pra\" + 0.017*\"e\" + 0.017*\"tá\" + 0.012*\"ela\" + 0.009*\"danc\" + 0.009*\"quer\" + 0.009*\"jog\" + 0.009*\"vem\" + 0.008*\"a\"')]"
      ]
     },
     "execution_count": 20,
     "metadata": {},
     "output_type": "execute_result"
    }
   ],
   "source": [
    "lda_model.show_topics()"
   ]
  },
  {
   "cell_type": "code",
   "execution_count": 21,
   "metadata": {},
   "outputs": [],
   "source": [
    "corpus_lda = lda_model[corpus]\n",
    "data_lda = {i: OrderedDict(lda_model.show_topic(i,8)) for i in range(8)}"
   ]
  },
  {
   "cell_type": "code",
   "execution_count": 22,
   "metadata": {},
   "outputs": [],
   "source": [
    "df_corpus_dic_lda = pd.DataFrame(data_lda)\n",
    "df_corpus_dic_lda = df_corpus_dic_lda.fillna(0).T"
   ]
  },
  {
   "cell_type": "code",
   "execution_count": 23,
   "metadata": {},
   "outputs": [
    {
     "data": {
      "text/plain": [
       "<seaborn.matrix.ClusterGrid at 0x7feb1eef8dc0>"
      ]
     },
     "execution_count": 23,
     "metadata": {},
     "output_type": "execute_result"
    },
    {
     "data": {
      "image/png": "[encoded data removed]",
      "text/plain": [
       "<Figure size 1080x1080 with 4 Axes>"
      ]
     },
     "metadata": {
      "needs_background": "light"
     },
     "output_type": "display_data"
    }
   ],
   "source": [
    "sns.clustermap(df_corpus_dic_lda.corr(), \n",
    "               center=0, \n",
    "               cmap=\"vlag\", \n",
    "               metric='cosine',\n",
    "               linewidths=.75, \n",
    "               figsize=(15, 15))"
   ]
  },
  {
   "cell_type": "markdown",
   "metadata": {},
   "source": [
    "# Classificação de gêneros musicais"
   ]
  },
  {
   "cell_type": "markdown",
   "metadata": {},
   "source": [
    "## Modelo binário"
   ]
  },
  {
   "cell_type": "markdown",
   "metadata": {},
   "source": [
    "Para começar, vou tentar classificar as letras em \"gospel\" ou \"funk\", gêneros que parecem bem distantes entre si em termos de letra. Por isso, teremos que modificar nosso dataframe original e realizar todo o pré-processamento novamente."
   ]
  },
  {
   "cell_type": "code",
   "execution_count": 24,
   "metadata": {},
   "outputs": [],
   "source": [
    "from sklearn.ensemble import RandomForestClassifier, VotingClassifier\n",
    "from sklearn.ensemble import ExtraTreesClassifier\n",
    "from sklearn.metrics import classification_report\n",
    "from sklearn.model_selection import StratifiedKFold, cross_val_score, cross_val_predict, train_test_split\n",
    "from sklearn.metrics import roc_curve, auc\n",
    "from sklearn.preprocessing import StandardScaler\n",
    "from sklearn.model_selection import train_test_split\n",
    "\n",
    "from gensim.utils import simple_preprocess\n",
    "from gensim.models import Word2Vec, word2vec\n",
    "\n",
    "import spacy\n",
    "from spacy import displacy\n",
    "\n",
    "import time"
   ]
  },
  {
   "cell_type": "code",
   "execution_count": 32,
   "metadata": {},
   "outputs": [
    {
     "name": "stderr",
     "output_type": "stream",
     "text": [
      "<ipython-input-32-3e0b817c6628>:2: SettingWithCopyWarning: \n",
      "A value is trying to be set on a copy of a slice from a DataFrame.\n",
      "Try using .loc[row_indexer,col_indexer] = value instead\n",
      "\n",
      "See the caveats in the documentation: https://pandas.pydata.org/pandas-docs/stable/user_guide/indexing.html#returning-a-view-versus-a-copy\n",
      "  df_model_1['genero_bin'] = df_model_1['genero'].map({'funk':0, 'gospel':1})\n"
     ]
    }
   ],
   "source": [
    "df_model_1 = full_data[(full_data.genero == 'funk') | (full_data.genero == 'gospel')]\n",
    "df_model_1['genero_bin'] = df_model_1['genero'].map({'funk':0, 'gospel':1})\n",
    "df_model_1 = df_model_1.reset_index()"
   ]
  },
  {
   "cell_type": "code",
   "execution_count": 34,
   "metadata": {},
   "outputs": [
    {
     "data": {
      "text/html": [
       "<div>\n",
       "<style scoped>\n",
       "    .dataframe tbody tr th:only-of-type {\n",
       "        vertical-align: middle;\n",
       "    }\n",
       "\n",
       "    .dataframe tbody tr th {\n",
       "        vertical-align: top;\n",
       "    }\n",
       "\n",
       "    .dataframe thead th {\n",
       "        text-align: right;\n",
       "    }\n",
       "</style>\n",
       "<table border=\"1\" class=\"dataframe\">\n",
       "  <thead>\n",
       "    <tr style=\"text-align: right;\">\n",
       "      <th></th>\n",
       "      <th>index</th>\n",
       "      <th>titulo</th>\n",
       "      <th>artista</th>\n",
       "      <th>letra</th>\n",
       "      <th>genero</th>\n",
       "      <th>genero_bin</th>\n",
       "    </tr>\n",
       "  </thead>\n",
       "  <tbody>\n",
       "    <tr>\n",
       "      <th>0</th>\n",
       "      <td>3000</td>\n",
       "      <td>O Bebê (part. MC Kekel)</td>\n",
       "      <td>Kevinho</td>\n",
       "      <td>Alô. Por que você não me atendeu. Já tava mó ...</td>\n",
       "      <td>funk</td>\n",
       "      <td>0</td>\n",
       "    </tr>\n",
       "    <tr>\n",
       "      <th>1</th>\n",
       "      <td>3001</td>\n",
       "      <td>A Distância Tá Maltratando (part. MC G15)</td>\n",
       "      <td>MC Bruninho</td>\n",
       "      <td>Como é que tá aí. Já se acostumou com a cidad...</td>\n",
       "      <td>funk</td>\n",
       "      <td>0</td>\n",
       "    </tr>\n",
       "    <tr>\n",
       "      <th>2</th>\n",
       "      <td>3002</td>\n",
       "      <td>Mete Com Força e Com Talento</td>\n",
       "      <td>MC Nick</td>\n",
       "      <td>Mete com força e com talento. Estou ofegante ...</td>\n",
       "      <td>funk</td>\n",
       "      <td>0</td>\n",
       "    </tr>\n",
       "    <tr>\n",
       "      <th>3</th>\n",
       "      <td>3003</td>\n",
       "      <td>Sou Favela (part. Vitinho Ferrari)</td>\n",
       "      <td>MC Bruninho</td>\n",
       "      <td>Rodo becos e viela. Mas não encontrei ninguém...</td>\n",
       "      <td>funk</td>\n",
       "      <td>0</td>\n",
       "    </tr>\n",
       "    <tr>\n",
       "      <th>4</th>\n",
       "      <td>3004</td>\n",
       "      <td>Amor de Verdade (part. MC Kekel)</td>\n",
       "      <td>MC Rita</td>\n",
       "      <td>Espera aí. Preciso tanto conversar. Então, ve...</td>\n",
       "      <td>funk</td>\n",
       "      <td>0</td>\n",
       "    </tr>\n",
       "  </tbody>\n",
       "</table>\n",
       "</div>"
      ],
      "text/plain": [
       "   index                                     titulo      artista  \\\n",
       "0   3000                    O Bebê (part. MC Kekel)      Kevinho   \n",
       "1   3001  A Distância Tá Maltratando (part. MC G15)  MC Bruninho   \n",
       "2   3002               Mete Com Força e Com Talento      MC Nick   \n",
       "3   3003         Sou Favela (part. Vitinho Ferrari)  MC Bruninho   \n",
       "4   3004           Amor de Verdade (part. MC Kekel)      MC Rita   \n",
       "\n",
       "                                               letra genero  genero_bin  \n",
       "0   Alô. Por que você não me atendeu. Já tava mó ...   funk           0  \n",
       "1   Como é que tá aí. Já se acostumou com a cidad...   funk           0  \n",
       "2   Mete com força e com talento. Estou ofegante ...   funk           0  \n",
       "3   Rodo becos e viela. Mas não encontrei ninguém...   funk           0  \n",
       "4   Espera aí. Preciso tanto conversar. Então, ve...   funk           0  "
      ]
     },
     "execution_count": 34,
     "metadata": {},
     "output_type": "execute_result"
    }
   ],
   "source": [
    "df_model_1.head()"
   ]
  },
  {
   "cell_type": "markdown",
   "metadata": {},
   "source": [
    "### Tokenização"
   ]
  },
  {
   "cell_type": "code",
   "execution_count": 35,
   "metadata": {},
   "outputs": [
    {
     "data": {
      "text/html": [
       "<div>\n",
       "<style scoped>\n",
       "    .dataframe tbody tr th:only-of-type {\n",
       "        vertical-align: middle;\n",
       "    }\n",
       "\n",
       "    .dataframe tbody tr th {\n",
       "        vertical-align: top;\n",
       "    }\n",
       "\n",
       "    .dataframe thead th {\n",
       "        text-align: right;\n",
       "    }\n",
       "</style>\n",
       "<table border=\"1\" class=\"dataframe\">\n",
       "  <thead>\n",
       "    <tr style=\"text-align: right;\">\n",
       "      <th></th>\n",
       "      <th>index</th>\n",
       "      <th>titulo</th>\n",
       "      <th>artista</th>\n",
       "      <th>letra</th>\n",
       "      <th>genero</th>\n",
       "      <th>genero_bin</th>\n",
       "      <th>letra_tokenizada</th>\n",
       "    </tr>\n",
       "  </thead>\n",
       "  <tbody>\n",
       "    <tr>\n",
       "      <th>0</th>\n",
       "      <td>3000</td>\n",
       "      <td>O Bebê (part. MC Kekel)</td>\n",
       "      <td>Kevinho</td>\n",
       "      <td>Alô. Por que você não me atendeu. Já tava mó ...</td>\n",
       "      <td>funk</td>\n",
       "      <td>0</td>\n",
       "      <td>[alo, por, que, voce, nao, me, atendeu, ja, ta...</td>\n",
       "    </tr>\n",
       "    <tr>\n",
       "      <th>1</th>\n",
       "      <td>3001</td>\n",
       "      <td>A Distância Tá Maltratando (part. MC G15)</td>\n",
       "      <td>MC Bruninho</td>\n",
       "      <td>Como é que tá aí. Já se acostumou com a cidad...</td>\n",
       "      <td>funk</td>\n",
       "      <td>0</td>\n",
       "      <td>[como, que, ta, ai, ja, se, acostumou, com, ci...</td>\n",
       "    </tr>\n",
       "    <tr>\n",
       "      <th>2</th>\n",
       "      <td>3002</td>\n",
       "      <td>Mete Com Força e Com Talento</td>\n",
       "      <td>MC Nick</td>\n",
       "      <td>Mete com força e com talento. Estou ofegante ...</td>\n",
       "      <td>funk</td>\n",
       "      <td>0</td>\n",
       "      <td>[mete, com, forca, com, talento, estou, ofegan...</td>\n",
       "    </tr>\n",
       "    <tr>\n",
       "      <th>3</th>\n",
       "      <td>3003</td>\n",
       "      <td>Sou Favela (part. Vitinho Ferrari)</td>\n",
       "      <td>MC Bruninho</td>\n",
       "      <td>Rodo becos e viela. Mas não encontrei ninguém...</td>\n",
       "      <td>funk</td>\n",
       "      <td>0</td>\n",
       "      <td>[rodo, becos, viela, mas, nao, encontrei, ning...</td>\n",
       "    </tr>\n",
       "    <tr>\n",
       "      <th>4</th>\n",
       "      <td>3004</td>\n",
       "      <td>Amor de Verdade (part. MC Kekel)</td>\n",
       "      <td>MC Rita</td>\n",
       "      <td>Espera aí. Preciso tanto conversar. Então, ve...</td>\n",
       "      <td>funk</td>\n",
       "      <td>0</td>\n",
       "      <td>[espera, ai, preciso, tanto, conversar, entao,...</td>\n",
       "    </tr>\n",
       "  </tbody>\n",
       "</table>\n",
       "</div>"
      ],
      "text/plain": [
       "   index                                     titulo      artista  \\\n",
       "0   3000                    O Bebê (part. MC Kekel)      Kevinho   \n",
       "1   3001  A Distância Tá Maltratando (part. MC G15)  MC Bruninho   \n",
       "2   3002               Mete Com Força e Com Talento      MC Nick   \n",
       "3   3003         Sou Favela (part. Vitinho Ferrari)  MC Bruninho   \n",
       "4   3004           Amor de Verdade (part. MC Kekel)      MC Rita   \n",
       "\n",
       "                                               letra genero  genero_bin  \\\n",
       "0   Alô. Por que você não me atendeu. Já tava mó ...   funk           0   \n",
       "1   Como é que tá aí. Já se acostumou com a cidad...   funk           0   \n",
       "2   Mete com força e com talento. Estou ofegante ...   funk           0   \n",
       "3   Rodo becos e viela. Mas não encontrei ninguém...   funk           0   \n",
       "4   Espera aí. Preciso tanto conversar. Então, ve...   funk           0   \n",
       "\n",
       "                                    letra_tokenizada  \n",
       "0  [alo, por, que, voce, nao, me, atendeu, ja, ta...  \n",
       "1  [como, que, ta, ai, ja, se, acostumou, com, ci...  \n",
       "2  [mete, com, forca, com, talento, estou, ofegan...  \n",
       "3  [rodo, becos, viela, mas, nao, encontrei, ning...  \n",
       "4  [espera, ai, preciso, tanto, conversar, entao,...  "
      ]
     },
     "execution_count": 35,
     "metadata": {},
     "output_type": "execute_result"
    }
   ],
   "source": [
    "df_model_1['letra_tokenizada'] = [simple_preprocess(line, deacc=True) for line in df_model_1['letra']] \n",
    "df_model_1.head()"
   ]
  },
  {
   "cell_type": "code",
   "execution_count": 36,
   "metadata": {
    "collapsed": true
   },
   "outputs": [
    {
     "data": {
      "text/html": [
       "<div>\n",
       "<style scoped>\n",
       "    .dataframe tbody tr th:only-of-type {\n",
       "        vertical-align: middle;\n",
       "    }\n",
       "\n",
       "    .dataframe tbody tr th {\n",
       "        vertical-align: top;\n",
       "    }\n",
       "\n",
       "    .dataframe thead th {\n",
       "        text-align: right;\n",
       "    }\n",
       "</style>\n",
       "<table border=\"1\" class=\"dataframe\">\n",
       "  <thead>\n",
       "    <tr style=\"text-align: right;\">\n",
       "      <th></th>\n",
       "      <th>index</th>\n",
       "      <th>titulo</th>\n",
       "      <th>artista</th>\n",
       "      <th>letra</th>\n",
       "      <th>genero</th>\n",
       "      <th>genero_bin</th>\n",
       "      <th>letra_tokenizada</th>\n",
       "      <th>stemmed_tokens</th>\n",
       "    </tr>\n",
       "  </thead>\n",
       "  <tbody>\n",
       "    <tr>\n",
       "      <th>0</th>\n",
       "      <td>3000</td>\n",
       "      <td>O Bebê (part. MC Kekel)</td>\n",
       "      <td>Kevinho</td>\n",
       "      <td>Alô. Por que você não me atendeu. Já tava mó ...</td>\n",
       "      <td>funk</td>\n",
       "      <td>0</td>\n",
       "      <td>[alo, por, que, voce, nao, me, atendeu, ja, ta...</td>\n",
       "      <td>[alo, por, que, voc, nao, me, atend, ja, tav, ...</td>\n",
       "    </tr>\n",
       "    <tr>\n",
       "      <th>1</th>\n",
       "      <td>3001</td>\n",
       "      <td>A Distância Tá Maltratando (part. MC G15)</td>\n",
       "      <td>MC Bruninho</td>\n",
       "      <td>Como é que tá aí. Já se acostumou com a cidad...</td>\n",
       "      <td>funk</td>\n",
       "      <td>0</td>\n",
       "      <td>[como, que, ta, ai, ja, se, acostumou, com, ci...</td>\n",
       "      <td>[com, que, ta, ai, ja, se, acostum, com, cidad...</td>\n",
       "    </tr>\n",
       "    <tr>\n",
       "      <th>2</th>\n",
       "      <td>3002</td>\n",
       "      <td>Mete Com Força e Com Talento</td>\n",
       "      <td>MC Nick</td>\n",
       "      <td>Mete com força e com talento. Estou ofegante ...</td>\n",
       "      <td>funk</td>\n",
       "      <td>0</td>\n",
       "      <td>[mete, com, forca, com, talento, estou, ofegan...</td>\n",
       "      <td>[met, com, forc, com, talent, estou, ofeg, voc...</td>\n",
       "    </tr>\n",
       "    <tr>\n",
       "      <th>3</th>\n",
       "      <td>3003</td>\n",
       "      <td>Sou Favela (part. Vitinho Ferrari)</td>\n",
       "      <td>MC Bruninho</td>\n",
       "      <td>Rodo becos e viela. Mas não encontrei ninguém...</td>\n",
       "      <td>funk</td>\n",
       "      <td>0</td>\n",
       "      <td>[rodo, becos, viela, mas, nao, encontrei, ning...</td>\n",
       "      <td>[rod, bec, viel, mas, nao, encontr, ningu, que...</td>\n",
       "    </tr>\n",
       "    <tr>\n",
       "      <th>4</th>\n",
       "      <td>3004</td>\n",
       "      <td>Amor de Verdade (part. MC Kekel)</td>\n",
       "      <td>MC Rita</td>\n",
       "      <td>Espera aí. Preciso tanto conversar. Então, ve...</td>\n",
       "      <td>funk</td>\n",
       "      <td>0</td>\n",
       "      <td>[espera, ai, preciso, tanto, conversar, entao,...</td>\n",
       "      <td>[esper, ai, precis, tant, convers, enta, vem, ...</td>\n",
       "    </tr>\n",
       "    <tr>\n",
       "      <th>5</th>\n",
       "      <td>3005</td>\n",
       "      <td>Vou Buscar</td>\n",
       "      <td>MC Hariel</td>\n",
       "      <td>Tô distante de perreco há mó tempão. Os trata...</td>\n",
       "      <td>funk</td>\n",
       "      <td>0</td>\n",
       "      <td>[to, distante, de, perreco, ha, mo, tempao, os...</td>\n",
       "      <td>[to, distant, de, perrec, ha, mo, tempa, os, t...</td>\n",
       "    </tr>\n",
       "    <tr>\n",
       "      <th>6</th>\n",
       "      <td>3006</td>\n",
       "      <td>Pra Inveja é Tchau (part. MC Kevin)</td>\n",
       "      <td>MC Davi</td>\n",
       "      <td>Fica o dia inteiro falando da minha vida. Cri...</td>\n",
       "      <td>funk</td>\n",
       "      <td>0</td>\n",
       "      <td>[fica, dia, inteiro, falando, da, minha, vida,...</td>\n",
       "      <td>[fic, dia, inteir, fal, da, minh, vid, critic,...</td>\n",
       "    </tr>\n",
       "    <tr>\n",
       "      <th>7</th>\n",
       "      <td>3007</td>\n",
       "      <td>Jogo do Amor</td>\n",
       "      <td>MC Bruninho</td>\n",
       "      <td>Olha aonde eu vim parar. Mais uma vez, o cora...</td>\n",
       "      <td>funk</td>\n",
       "      <td>0</td>\n",
       "      <td>[olha, aonde, eu, vim, parar, mais, uma, vez, ...</td>\n",
       "      <td>[olha, aond, eu, vim, par, mais, uma, vez, cor...</td>\n",
       "    </tr>\n",
       "    <tr>\n",
       "      <th>8</th>\n",
       "      <td>3008</td>\n",
       "      <td>Só Você (part. MC G15)</td>\n",
       "      <td>Dennis DJ</td>\n",
       "      <td>Para pra pensar se a gente é acidente. Se foi...</td>\n",
       "      <td>funk</td>\n",
       "      <td>0</td>\n",
       "      <td>[para, pra, pensar, se, gente, acidente, se, f...</td>\n",
       "      <td>[par, pra, pens, se, gent, acident, se, foi, p...</td>\n",
       "    </tr>\n",
       "    <tr>\n",
       "      <th>9</th>\n",
       "      <td>3009</td>\n",
       "      <td>Sou Favela</td>\n",
       "      <td>Aldair Playboy</td>\n",
       "      <td>Rodo becos e vielas. E não encontrei ninguém....</td>\n",
       "      <td>funk</td>\n",
       "      <td>0</td>\n",
       "      <td>[rodo, becos, vielas, nao, encontrei, ninguem,...</td>\n",
       "      <td>[rod, bec, viel, nao, encontr, ningu, que, ten...</td>\n",
       "    </tr>\n",
       "  </tbody>\n",
       "</table>\n",
       "</div>"
      ],
      "text/plain": [
       "   index                                     titulo         artista  \\\n",
       "0   3000                    O Bebê (part. MC Kekel)         Kevinho   \n",
       "1   3001  A Distância Tá Maltratando (part. MC G15)     MC Bruninho   \n",
       "2   3002               Mete Com Força e Com Talento         MC Nick   \n",
       "3   3003         Sou Favela (part. Vitinho Ferrari)     MC Bruninho   \n",
       "4   3004           Amor de Verdade (part. MC Kekel)         MC Rita   \n",
       "5   3005                                 Vou Buscar       MC Hariel   \n",
       "6   3006        Pra Inveja é Tchau (part. MC Kevin)         MC Davi   \n",
       "7   3007                               Jogo do Amor     MC Bruninho   \n",
       "8   3008                     Só Você (part. MC G15)       Dennis DJ   \n",
       "9   3009                                 Sou Favela  Aldair Playboy   \n",
       "\n",
       "                                               letra genero  genero_bin  \\\n",
       "0   Alô. Por que você não me atendeu. Já tava mó ...   funk           0   \n",
       "1   Como é que tá aí. Já se acostumou com a cidad...   funk           0   \n",
       "2   Mete com força e com talento. Estou ofegante ...   funk           0   \n",
       "3   Rodo becos e viela. Mas não encontrei ninguém...   funk           0   \n",
       "4   Espera aí. Preciso tanto conversar. Então, ve...   funk           0   \n",
       "5   Tô distante de perreco há mó tempão. Os trata...   funk           0   \n",
       "6   Fica o dia inteiro falando da minha vida. Cri...   funk           0   \n",
       "7   Olha aonde eu vim parar. Mais uma vez, o cora...   funk           0   \n",
       "8   Para pra pensar se a gente é acidente. Se foi...   funk           0   \n",
       "9   Rodo becos e vielas. E não encontrei ninguém....   funk           0   \n",
       "\n",
       "                                    letra_tokenizada  \\\n",
       "0  [alo, por, que, voce, nao, me, atendeu, ja, ta...   \n",
       "1  [como, que, ta, ai, ja, se, acostumou, com, ci...   \n",
       "2  [mete, com, forca, com, talento, estou, ofegan...   \n",
       "3  [rodo, becos, viela, mas, nao, encontrei, ning...   \n",
       "4  [espera, ai, preciso, tanto, conversar, entao,...   \n",
       "5  [to, distante, de, perreco, ha, mo, tempao, os...   \n",
       "6  [fica, dia, inteiro, falando, da, minha, vida,...   \n",
       "7  [olha, aonde, eu, vim, parar, mais, uma, vez, ...   \n",
       "8  [para, pra, pensar, se, gente, acidente, se, f...   \n",
       "9  [rodo, becos, vielas, nao, encontrei, ninguem,...   \n",
       "\n",
       "                                      stemmed_tokens  \n",
       "0  [alo, por, que, voc, nao, me, atend, ja, tav, ...  \n",
       "1  [com, que, ta, ai, ja, se, acostum, com, cidad...  \n",
       "2  [met, com, forc, com, talent, estou, ofeg, voc...  \n",
       "3  [rod, bec, viel, mas, nao, encontr, ningu, que...  \n",
       "4  [esper, ai, precis, tant, convers, enta, vem, ...  \n",
       "5  [to, distant, de, perrec, ha, mo, tempa, os, t...  \n",
       "6  [fic, dia, inteir, fal, da, minh, vid, critic,...  \n",
       "7  [olha, aond, eu, vim, par, mais, uma, vez, cor...  \n",
       "8  [par, pra, pens, se, gent, acident, se, foi, p...  \n",
       "9  [rod, bec, viel, nao, encontr, ningu, que, ten...  "
      ]
     },
     "execution_count": 36,
     "metadata": {},
     "output_type": "execute_result"
    }
   ],
   "source": [
    "port_stemmer = PortugueseStemmer()\n",
    "df_model_1['stemmed_tokens'] = [[port_stemmer.stem(word) for word in tokens] for tokens in df_model_1['letra_tokenizada'] ]\n",
    "df_model_1.head(10)"
   ]
  },
  {
   "cell_type": "markdown",
   "metadata": {},
   "source": [
    "### Definição dos conjuntos de treino e teste"
   ]
  },
  {
   "cell_type": "code",
   "execution_count": 38,
   "metadata": {},
   "outputs": [
    {
     "name": "stdout",
     "output_type": "stream",
     "text": [
      "Contando os valores para os generos do conjunto de treino:\n",
      "0    707\n",
      "1    693\n",
      "Name: genero_bin, dtype: int64\n",
      "Contando os valores para os generos do conjunto de teste:\n",
      "1    307\n",
      "0    293\n",
      "Name: genero_bin, dtype: int64\n",
      "<class 'pandas.core.frame.DataFrame'>\n",
      "<class 'pandas.core.series.Series'>\n"
     ]
    }
   ],
   "source": [
    "def split_train_test(df, \n",
    "                     features=['titulo','artista','letra','letra_tokenizada','stemmed_tokens'],\n",
    "                     target='genero_bin',\n",
    "                     test_size=0.3, \n",
    "                     shuffle_state=True):\n",
    "    \n",
    "    X_train, X_test, Y_train, Y_test = train_test_split(df[features], \n",
    "                                                        df[target], \n",
    "                                                        shuffle=shuffle_state,\n",
    "                                                        test_size=test_size, \n",
    "                                                        random_state=15)\n",
    "    \n",
    "    print(\"Contando os valores para os generos do conjunto de treino:\")\n",
    "    print(Y_train.value_counts())\n",
    "    print(\"Contando os valores para os generos do conjunto de teste:\")\n",
    "    print(Y_test.value_counts())\n",
    "    print(type(X_train))\n",
    "    print(type(Y_train))\n",
    "    X_train = X_train.reset_index()\n",
    "    X_test = X_test.reset_index()\n",
    "    Y_train = Y_train.to_frame()\n",
    "    Y_train = Y_train.reset_index()\n",
    "    Y_test = Y_test.to_frame()\n",
    "    Y_test = Y_test.reset_index()\n",
    "    \n",
    "    return X_train, X_test, Y_train, Y_test\n",
    "\n",
    "\n",
    "X_train, X_test, Y_train, Y_test = split_train_test(df_model_1)"
   ]
  },
  {
   "cell_type": "markdown",
   "metadata": {},
   "source": [
    "### Word2Vec"
   ]
  },
  {
   "cell_type": "code",
   "execution_count": 40,
   "metadata": {},
   "outputs": [
    {
     "name": "stdout",
     "output_type": "stream",
     "text": [
      "Tempo para treinar o word2vec:  23.612053155899048 segundos\n"
     ]
    }
   ],
   "source": [
    "size = 1000\n",
    "window = 3\n",
    "min_count = 1\n",
    "workers = 3\n",
    "sg = 1\n",
    "\n",
    "OUTPUT_FOLDER = 'output_folder'\n",
    "\n",
    "word2vec_gospelfunk_file = OUTPUT_FOLDER + '/' + 'gospel_funk_' + 'word2vec_' + str(size) + '.model'\n",
    "start_time = time.time()\n",
    "stemmed_tokens = pd.Series(df_model_1['stemmed_tokens']).values\n",
    "\n",
    "# treinando o Word2Vec\n",
    "w2v_gospelfunk_model = Word2Vec(stemmed_tokens, \n",
    "                                 min_count = min_count, \n",
    "                                 size = size, \n",
    "                                 workers = workers, \n",
    "                                 window = window, \n",
    "                                 sg = sg)\n",
    "\n",
    "print(\"Tempo para treinar o word2vec: \", str(time.time() - start_time), 'segundos')\n",
    "w2v_gospelfunk_model.save(word2vec_gospelfunk_file)"
   ]
  },
  {
   "cell_type": "markdown",
   "metadata": {},
   "source": [
    "Carregando o modelo já treinado e acessando seu dicionário:"
   ]
  },
  {
   "cell_type": "code",
   "execution_count": 41,
   "metadata": {},
   "outputs": [
    {
     "name": "stdout",
     "output_type": "stream",
     "text": [
      "Index da palavra 'deus': 17\n",
      "Número total de palavras: 9683\n",
      "Tamanho do vetor gerado por uma palavra: 1000\n"
     ]
    },
    {
     "name": "stderr",
     "output_type": "stream",
     "text": [
      "<ipython-input-41-e9fdc684c006>:8: DeprecationWarning: Call to deprecated `__getitem__` (Method will be removed in 4.0.0, use self.wv.__getitem__() instead).\n",
      "  print(\"Tamanho do vetor gerado por uma palavra:\", len(sg_w2v_gospelfunk_model['deus']))\n"
     ]
    }
   ],
   "source": [
    "sg_w2v_gospelfunk_model = Word2Vec.load(word2vec_gospelfunk_file)\n",
    "\n",
    "# index de uma palavra\n",
    "print(\"Index da palavra 'deus':\", sg_w2v_gospelfunk_model.wv.vocab[\"deus\"].index)\n",
    "\n",
    "print('Número total de palavras:',len(sg_w2v_gospelfunk_model.wv.vocab))\n",
    "\n",
    "print(\"Tamanho do vetor gerado por uma palavra:\", len(sg_w2v_gospelfunk_model['deus']))"
   ]
  },
  {
   "cell_type": "markdown",
   "metadata": {},
   "source": [
    "Gerando vetores Word2Vec:"
   ]
  },
  {
   "cell_type": "code",
   "execution_count": 43,
   "metadata": {},
   "outputs": [
    {
     "name": "stderr",
     "output_type": "stream",
     "text": [
      "<ipython-input-43-e15fbf2e48e2>:4: DeprecationWarning: Call to deprecated `__getitem__` (Method will be removed in 4.0.0, use self.wv.__getitem__() instead).\n",
      "  model_vector = (np.mean([sg_w2v_gospelfunk_model[token] for token in row['stemmed_tokens']],\n"
     ]
    }
   ],
   "source": [
    "word2vec_gospelfunk_filename = OUTPUT_FOLDER + '/' + 'train_review_gospelfunk_word2vec.csv'\n",
    "with open(word2vec_gospelfunk_filename, 'w+') as word2vec_gospelfunk_file:\n",
    "    for index, row in X_train.iterrows():\n",
    "        model_vector = (np.mean([sg_w2v_gospelfunk_model[token] for token in row['stemmed_tokens']], \n",
    "                                axis=0)).tolist()\n",
    "        if index == 0:\n",
    "            header = \",\".join(str(ele) for ele in range(1000))\n",
    "            word2vec_gospelfunk_file.write(header)\n",
    "            word2vec_gospelfunk_file.write(\"\\n\")\n",
    "        \n",
    "        if type(model_vector) is list:  \n",
    "            line1 = \",\".join( [str(vector_element) for vector_element in model_vector] )\n",
    "        else:\n",
    "            line1 = \",\".join([str(0) for i in range(1000)])\n",
    "        word2vec_gospelfunk_file.write(line1)\n",
    "        word2vec_gospelfunk_file.write('\\n')"
   ]
  },
  {
   "cell_type": "markdown",
   "metadata": {},
   "source": [
    "### Treinando o modelo de classificação usando vetores Word2Vec"
   ]
  },
  {
   "cell_type": "code",
   "execution_count": 44,
   "metadata": {},
   "outputs": [
    {
     "name": "stdout",
     "output_type": "stream",
     "text": [
      "Tempo levado para fitar o modelo a partir dos vetores word2vec: 1.81646728515625\n"
     ]
    }
   ],
   "source": [
    "# carregando do arquivo\n",
    "word2vec_gospelfunk_df = pd.read_csv(word2vec_gospelfunk_filename)\n",
    "\n",
    "# inicializando o modelo\n",
    "clf_rf_word2vec = RandomForestClassifier(criterion='entropy')\n",
    "\n",
    "start_time = time.time()\n",
    "# fitando o modelo\n",
    "clf_rf_word2vec.fit(word2vec_gospelfunk_df, Y_train['genero_bin'])\n",
    "print(\"Tempo levado para fitar o modelo a partir dos vetores word2vec: \" + str(time.time() - start_time))"
   ]
  },
  {
   "cell_type": "markdown",
   "metadata": {},
   "source": [
    "### Testando o modelo de classificação"
   ]
  },
  {
   "cell_type": "code",
   "execution_count": 45,
   "metadata": {},
   "outputs": [],
   "source": [
    "from sklearn import model_selection\n",
    "\n",
    "from sklearn.metrics import confusion_matrix\n",
    "from sklearn.metrics import classification_report\n",
    "from sklearn.metrics import confusion_matrix\n",
    "from sklearn.metrics import roc_auc_score\n",
    "from sklearn.metrics import roc_curve\n",
    "from sklearn.metrics import auc\n",
    "from sklearn.metrics import accuracy_score\n",
    "from sklearn.metrics import average_precision_score\n",
    "from sklearn.metrics import f1_score\n",
    "from sklearn.metrics import precision_recall_curve"
   ]
  },
  {
   "cell_type": "code",
   "execution_count": 47,
   "metadata": {},
   "outputs": [],
   "source": [
    "# função de avaliação de modelo que roubei do Renato :)\n",
    "def plot_confusion_matrix(cm, classes,\n",
    "                          normalize=False,\n",
    "                          title='Confusion matrix',\n",
    "                          cmap=plt.cm.Blues):\n",
    "    \"\"\"\n",
    "    This function prints and plots the confusion matrix.\n",
    "    Normalization can be applied by setting `normalize=True`.\n",
    "    \"\"\"\n",
    "\n",
    "    plt.imshow(cm, interpolation='nearest', cmap=cmap, aspect='auto')\n",
    "    plt.title(title)\n",
    "    plt.colorbar()\n",
    "    tick_marks = np.arange(len(classes))\n",
    "    plt.xticks(tick_marks, classes, rotation=45)\n",
    "    plt.yticks(tick_marks, classes)\n",
    "    \n",
    "    if normalize:\n",
    "        cm = cm.astype('float') / cm.sum(axis=1)[:, np.newaxis]\n",
    "        print(\"Normalized confusion matrix\")\n",
    "    else:\n",
    "        print('Confusion matrix, without normalization')\n",
    "\n",
    "    print(cm)\n",
    "\n",
    "    thresh = cm.max() / 2.\n",
    "    for i, j in itertools.product(range(cm.shape[0]), range(cm.shape[1])):\n",
    "        plt.text(j, i, cm[i, j],\n",
    "                 horizontalalignment=\"center\",\n",
    "                 color=\"white\" if cm[i, j] > thresh else \"black\")\n",
    "\n",
    "    plt.tight_layout()\n",
    "    plt.ylabel('True label')\n",
    "    plt.xlabel('Predicted label')\n",
    "    \n",
    "def clf_eval(clf, X, y_true, classes=['0', '1']):\n",
    "    y_pred = clf.predict(X)\n",
    "    clf_matrix = confusion_matrix(y_true, y_pred)\n",
    "    print('Classification Report')\n",
    "    print(classification_report(y_true, y_pred))\n",
    "    print('Accuracy Score: {}'.format(accuracy_score(y_true, y_pred)))\n",
    "    print('f1 Score: {}'.format(f1_score(y_true, y_pred, average='weighted')))\n",
    "    plot_confusion_matrix(clf_matrix, classes=classes)\n",
    "    \n",
    "    if len(classes) == 2:\n",
    "        print('ROC Score: {}'.format(roc_auc_score(y_true, y_pred)))\n",
    "        print('Average Precision Score: {}'.format(average_precision_score(y_true, y_pred)))\n",
    "        return roc_auc_score(y_true, y_pred)"
   ]
  },
  {
   "cell_type": "code",
   "execution_count": 49,
   "metadata": {},
   "outputs": [
    {
     "name": "stderr",
     "output_type": "stream",
     "text": [
      "<ipython-input-49-5bcfae85b94a>:3: DeprecationWarning: Call to deprecated `__getitem__` (Method will be removed in 4.0.0, use self.wv.__getitem__() instead).\n",
      "  model_vector = np.mean([sg_w2v_gospelfunk_model[token] for token in row['stemmed_tokens']], axis=0)\n"
     ]
    }
   ],
   "source": [
    "test_features_gospelfunk_word2vec = []\n",
    "for index, row in X_test.iterrows():\n",
    "    model_vector = np.mean([sg_w2v_gospelfunk_model[token] for token in row['stemmed_tokens']], axis=0)\n",
    "    test_features_gospelfunk_word2vec.append(model_vector)"
   ]
  },
  {
   "cell_type": "code",
   "execution_count": 50,
   "metadata": {},
   "outputs": [
    {
     "name": "stdout",
     "output_type": "stream",
     "text": [
      "Classification Report\n",
      "              precision    recall  f1-score   support\n",
      "\n",
      "           0       0.96      0.97      0.97       293\n",
      "           1       0.97      0.96      0.97       307\n",
      "\n",
      "    accuracy                           0.97       600\n",
      "   macro avg       0.97      0.97      0.97       600\n",
      "weighted avg       0.97      0.97      0.97       600\n",
      "\n",
      "Accuracy Score: 0.9666666666666667\n",
      "f1 Score: 0.9666703713994628\n",
      "Confusion matrix, without normalization\n",
      "[[285   8]\n",
      " [ 12 295]]\n",
      "ROC Score: 0.9668041489255261\n",
      "Average Precision Score: 0.9555414368798444\n"
     ]
    },
    {
     "data": {
      "text/plain": [
       "0.9668041489255261"
      ]
     },
     "execution_count": 50,
     "metadata": {},
     "output_type": "execute_result"
    },
    {
     "data": {
      "image/png": "[encoded data removed]",
      "text/plain": [
       "<Figure size 432x288 with 2 Axes>"
      ]
     },
     "metadata": {
      "needs_background": "light"
     },
     "output_type": "display_data"
    }
   ],
   "source": [
    "clf_eval(clf_rf_word2vec,\n",
    "         test_features_gospelfunk_word2vec, \n",
    "         Y_test['genero_bin'])"
   ]
  },
  {
   "cell_type": "markdown",
   "metadata": {},
   "source": [
    "## Modelo multiclass"
   ]
  },
  {
   "cell_type": "markdown",
   "metadata": {},
   "source": [
    "Como obtivemos um excelente resultado para classificação de letras de canções em gospel ou funk, ajustaremos um outro modelo que leve em consideração todos os gêneros presentes em nosso dataset."
   ]
  },
  {
   "cell_type": "markdown",
   "metadata": {},
   "source": [
    "### Tokenização"
   ]
  },
  {
   "cell_type": "code",
   "execution_count": 52,
   "metadata": {
    "collapsed": true
   },
   "outputs": [
    {
     "data": {
      "text/html": [
       "<div>\n",
       "<style scoped>\n",
       "    .dataframe tbody tr th:only-of-type {\n",
       "        vertical-align: middle;\n",
       "    }\n",
       "\n",
       "    .dataframe tbody tr th {\n",
       "        vertical-align: top;\n",
       "    }\n",
       "\n",
       "    .dataframe thead th {\n",
       "        text-align: right;\n",
       "    }\n",
       "</style>\n",
       "<table border=\"1\" class=\"dataframe\">\n",
       "  <thead>\n",
       "    <tr style=\"text-align: right;\">\n",
       "      <th></th>\n",
       "      <th>titulo</th>\n",
       "      <th>artista</th>\n",
       "      <th>letra</th>\n",
       "      <th>genero</th>\n",
       "      <th>genero_num</th>\n",
       "      <th>letra_tokenizada</th>\n",
       "    </tr>\n",
       "  </thead>\n",
       "  <tbody>\n",
       "    <tr>\n",
       "      <th>0</th>\n",
       "      <td>10 Beijos de Rua</td>\n",
       "      <td>Léo Santana</td>\n",
       "      <td>Acabou outra vez. Foi cena repetida. Um tchau...</td>\n",
       "      <td>axe</td>\n",
       "      <td>2</td>\n",
       "      <td>[acabou, outra, vez, foi, cena, repetida, um, ...</td>\n",
       "    </tr>\n",
       "    <tr>\n",
       "      <th>1</th>\n",
       "      <td>Quando a Chuva Passar</td>\n",
       "      <td>Ivete Sangalo</td>\n",
       "      <td>Pra que falar. Se você não quer me ouvir. Fug...</td>\n",
       "      <td>axe</td>\n",
       "      <td>2</td>\n",
       "      <td>[pra, que, falar, se, voce, nao, quer, me, ouv...</td>\n",
       "    </tr>\n",
       "    <tr>\n",
       "      <th>2</th>\n",
       "      <td>Anjo</td>\n",
       "      <td>Saulo Fernandes</td>\n",
       "      <td>Hoje eu acordei mais cedo. E fiquei te olhand...</td>\n",
       "      <td>axe</td>\n",
       "      <td>2</td>\n",
       "      <td>[hoje, eu, acordei, mais, cedo, fiquei, te, ol...</td>\n",
       "    </tr>\n",
       "    <tr>\n",
       "      <th>3</th>\n",
       "      <td>O Que Seria</td>\n",
       "      <td>Carlinhos Brown</td>\n",
       "      <td>Quem sabe nem era pra ser nossa. Aquela lua a...</td>\n",
       "      <td>axe</td>\n",
       "      <td>2</td>\n",
       "      <td>[quem, sabe, nem, era, pra, ser, nossa, aquela...</td>\n",
       "    </tr>\n",
       "    <tr>\n",
       "      <th>4</th>\n",
       "      <td>Um Sinal (part. Melim)</td>\n",
       "      <td>Ivete Sangalo</td>\n",
       "      <td>Eu jamais quis deixar você ir. Mas quem de nó...</td>\n",
       "      <td>axe</td>\n",
       "      <td>2</td>\n",
       "      <td>[eu, jamais, quis, deixar, voce, ir, mas, quem...</td>\n",
       "    </tr>\n",
       "    <tr>\n",
       "      <th>5</th>\n",
       "      <td>Se Eu Não Te Amasse Tanto Assim</td>\n",
       "      <td>Ivete Sangalo</td>\n",
       "      <td>Meu coração, sem direção. Voando só por voar....</td>\n",
       "      <td>axe</td>\n",
       "      <td>2</td>\n",
       "      <td>[meu, coracao, sem, direcao, voando, so, por, ...</td>\n",
       "    </tr>\n",
       "    <tr>\n",
       "      <th>6</th>\n",
       "      <td>O Mais Belo Dos Belos</td>\n",
       "      <td>Daniela Mercury</td>\n",
       "      <td>Quem é que sobe a ladeira do Curuzu. E a cois...</td>\n",
       "      <td>axe</td>\n",
       "      <td>2</td>\n",
       "      <td>[quem, que, sobe, ladeira, do, curuzu, coisa, ...</td>\n",
       "    </tr>\n",
       "    <tr>\n",
       "      <th>7</th>\n",
       "      <td>Eva</td>\n",
       "      <td>Banda Eva</td>\n",
       "      <td>Meu amor, olha só, hoje o sol não apareceu. É...</td>\n",
       "      <td>axe</td>\n",
       "      <td>2</td>\n",
       "      <td>[meu, amor, olha, so, hoje, sol, nao, apareceu...</td>\n",
       "    </tr>\n",
       "    <tr>\n",
       "      <th>8</th>\n",
       "      <td>Flor do Reggae</td>\n",
       "      <td>Ivete Sangalo</td>\n",
       "      <td>Um brilho de amor chegou. Na ilha inteira. E ...</td>\n",
       "      <td>axe</td>\n",
       "      <td>2</td>\n",
       "      <td>[um, brilho, de, amor, chegou, na, ilha, intei...</td>\n",
       "    </tr>\n",
       "    <tr>\n",
       "      <th>9</th>\n",
       "      <td>Zero a Dez (part. Luan Santana)</td>\n",
       "      <td>Ivete Sangalo</td>\n",
       "      <td>Numa escala zero a dez, eu te dou cem. E cem ...</td>\n",
       "      <td>axe</td>\n",
       "      <td>2</td>\n",
       "      <td>[numa, escala, zero, dez, eu, te, dou, cem, ce...</td>\n",
       "    </tr>\n",
       "  </tbody>\n",
       "</table>\n",
       "</div>"
      ],
      "text/plain": [
       "                            titulo          artista  \\\n",
       "0                 10 Beijos de Rua      Léo Santana   \n",
       "1            Quando a Chuva Passar    Ivete Sangalo   \n",
       "2                             Anjo  Saulo Fernandes   \n",
       "3                      O Que Seria  Carlinhos Brown   \n",
       "4           Um Sinal (part. Melim)    Ivete Sangalo   \n",
       "5  Se Eu Não Te Amasse Tanto Assim    Ivete Sangalo   \n",
       "6            O Mais Belo Dos Belos  Daniela Mercury   \n",
       "7                              Eva        Banda Eva   \n",
       "8                   Flor do Reggae    Ivete Sangalo   \n",
       "9  Zero a Dez (part. Luan Santana)    Ivete Sangalo   \n",
       "\n",
       "                                               letra genero  genero_num  \\\n",
       "0   Acabou outra vez. Foi cena repetida. Um tchau...    axe           2   \n",
       "1   Pra que falar. Se você não quer me ouvir. Fug...    axe           2   \n",
       "2   Hoje eu acordei mais cedo. E fiquei te olhand...    axe           2   \n",
       "3   Quem sabe nem era pra ser nossa. Aquela lua a...    axe           2   \n",
       "4   Eu jamais quis deixar você ir. Mas quem de nó...    axe           2   \n",
       "5   Meu coração, sem direção. Voando só por voar....    axe           2   \n",
       "6   Quem é que sobe a ladeira do Curuzu. E a cois...    axe           2   \n",
       "7   Meu amor, olha só, hoje o sol não apareceu. É...    axe           2   \n",
       "8   Um brilho de amor chegou. Na ilha inteira. E ...    axe           2   \n",
       "9   Numa escala zero a dez, eu te dou cem. E cem ...    axe           2   \n",
       "\n",
       "                                    letra_tokenizada  \n",
       "0  [acabou, outra, vez, foi, cena, repetida, um, ...  \n",
       "1  [pra, que, falar, se, voce, nao, quer, me, ouv...  \n",
       "2  [hoje, eu, acordei, mais, cedo, fiquei, te, ol...  \n",
       "3  [quem, sabe, nem, era, pra, ser, nossa, aquela...  \n",
       "4  [eu, jamais, quis, deixar, voce, ir, mas, quem...  \n",
       "5  [meu, coracao, sem, direcao, voando, so, por, ...  \n",
       "6  [quem, que, sobe, ladeira, do, curuzu, coisa, ...  \n",
       "7  [meu, amor, olha, so, hoje, sol, nao, apareceu...  \n",
       "8  [um, brilho, de, amor, chegou, na, ilha, intei...  \n",
       "9  [numa, escala, zero, dez, eu, te, dou, cem, ce...  "
      ]
     },
     "execution_count": 52,
     "metadata": {},
     "output_type": "execute_result"
    }
   ],
   "source": [
    "data_model = full_data.copy()\n",
    "genero_map_dict = {'gospel':0,\n",
    "                   'sertanejo':1,\n",
    "                   'axe':2, \n",
    "                   'forro':3, \n",
    "                   'pagode':4, \n",
    "                   'samba':5, \n",
    "                   'bossa':6,\n",
    "                   'funk':7}\n",
    "\n",
    "data_model['genero_num'] = data_model['genero'].map(genero_map_dict)\n",
    "\n",
    "data_model['letra_tokenizada'] = [simple_preprocess(line, deacc=True) for line in data_model['letra']] \n",
    "data_model.head(n=10)"
   ]
  },
  {
   "cell_type": "code",
   "execution_count": 53,
   "metadata": {},
   "outputs": [
    {
     "data": {
      "text/html": [
       "<div>\n",
       "<style scoped>\n",
       "    .dataframe tbody tr th:only-of-type {\n",
       "        vertical-align: middle;\n",
       "    }\n",
       "\n",
       "    .dataframe tbody tr th {\n",
       "        vertical-align: top;\n",
       "    }\n",
       "\n",
       "    .dataframe thead th {\n",
       "        text-align: right;\n",
       "    }\n",
       "</style>\n",
       "<table border=\"1\" class=\"dataframe\">\n",
       "  <thead>\n",
       "    <tr style=\"text-align: right;\">\n",
       "      <th></th>\n",
       "      <th>titulo</th>\n",
       "      <th>artista</th>\n",
       "      <th>letra</th>\n",
       "      <th>genero</th>\n",
       "      <th>genero_num</th>\n",
       "      <th>letra_tokenizada</th>\n",
       "      <th>stemmed_tokens</th>\n",
       "    </tr>\n",
       "  </thead>\n",
       "  <tbody>\n",
       "    <tr>\n",
       "      <th>0</th>\n",
       "      <td>10 Beijos de Rua</td>\n",
       "      <td>Léo Santana</td>\n",
       "      <td>Acabou outra vez. Foi cena repetida. Um tchau...</td>\n",
       "      <td>axe</td>\n",
       "      <td>2</td>\n",
       "      <td>[acabou, outra, vez, foi, cena, repetida, um, ...</td>\n",
       "      <td>[acab, outr, vez, foi, cen, repet, um, tchau, ...</td>\n",
       "    </tr>\n",
       "    <tr>\n",
       "      <th>1</th>\n",
       "      <td>Quando a Chuva Passar</td>\n",
       "      <td>Ivete Sangalo</td>\n",
       "      <td>Pra que falar. Se você não quer me ouvir. Fug...</td>\n",
       "      <td>axe</td>\n",
       "      <td>2</td>\n",
       "      <td>[pra, que, falar, se, voce, nao, quer, me, ouv...</td>\n",
       "      <td>[pra, que, fal, se, voc, nao, quer, me, ouv, f...</td>\n",
       "    </tr>\n",
       "    <tr>\n",
       "      <th>2</th>\n",
       "      <td>Anjo</td>\n",
       "      <td>Saulo Fernandes</td>\n",
       "      <td>Hoje eu acordei mais cedo. E fiquei te olhand...</td>\n",
       "      <td>axe</td>\n",
       "      <td>2</td>\n",
       "      <td>[hoje, eu, acordei, mais, cedo, fiquei, te, ol...</td>\n",
       "      <td>[hoj, eu, acord, mais, ced, fiqu, te, olhand, ...</td>\n",
       "    </tr>\n",
       "    <tr>\n",
       "      <th>3</th>\n",
       "      <td>O Que Seria</td>\n",
       "      <td>Carlinhos Brown</td>\n",
       "      <td>Quem sabe nem era pra ser nossa. Aquela lua a...</td>\n",
       "      <td>axe</td>\n",
       "      <td>2</td>\n",
       "      <td>[quem, sabe, nem, era, pra, ser, nossa, aquela...</td>\n",
       "      <td>[quem, sab, nem, era, pra, ser, noss, aquel, l...</td>\n",
       "    </tr>\n",
       "    <tr>\n",
       "      <th>4</th>\n",
       "      <td>Um Sinal (part. Melim)</td>\n",
       "      <td>Ivete Sangalo</td>\n",
       "      <td>Eu jamais quis deixar você ir. Mas quem de nó...</td>\n",
       "      <td>axe</td>\n",
       "      <td>2</td>\n",
       "      <td>[eu, jamais, quis, deixar, voce, ir, mas, quem...</td>\n",
       "      <td>[eu, jam, quis, deix, voc, ir, mas, quem, de, ...</td>\n",
       "    </tr>\n",
       "    <tr>\n",
       "      <th>5</th>\n",
       "      <td>Se Eu Não Te Amasse Tanto Assim</td>\n",
       "      <td>Ivete Sangalo</td>\n",
       "      <td>Meu coração, sem direção. Voando só por voar....</td>\n",
       "      <td>axe</td>\n",
       "      <td>2</td>\n",
       "      <td>[meu, coracao, sem, direcao, voando, so, por, ...</td>\n",
       "      <td>[meu, coraca, sem, direca, voand, so, por, voa...</td>\n",
       "    </tr>\n",
       "    <tr>\n",
       "      <th>6</th>\n",
       "      <td>O Mais Belo Dos Belos</td>\n",
       "      <td>Daniela Mercury</td>\n",
       "      <td>Quem é que sobe a ladeira do Curuzu. E a cois...</td>\n",
       "      <td>axe</td>\n",
       "      <td>2</td>\n",
       "      <td>[quem, que, sobe, ladeira, do, curuzu, coisa, ...</td>\n",
       "      <td>[quem, que, sob, ladeir, do, curuzu, cois, mai...</td>\n",
       "    </tr>\n",
       "    <tr>\n",
       "      <th>7</th>\n",
       "      <td>Eva</td>\n",
       "      <td>Banda Eva</td>\n",
       "      <td>Meu amor, olha só, hoje o sol não apareceu. É...</td>\n",
       "      <td>axe</td>\n",
       "      <td>2</td>\n",
       "      <td>[meu, amor, olha, so, hoje, sol, nao, apareceu...</td>\n",
       "      <td>[meu, amor, olha, so, hoj, sol, nao, aparec, f...</td>\n",
       "    </tr>\n",
       "    <tr>\n",
       "      <th>8</th>\n",
       "      <td>Flor do Reggae</td>\n",
       "      <td>Ivete Sangalo</td>\n",
       "      <td>Um brilho de amor chegou. Na ilha inteira. E ...</td>\n",
       "      <td>axe</td>\n",
       "      <td>2</td>\n",
       "      <td>[um, brilho, de, amor, chegou, na, ilha, intei...</td>\n",
       "      <td>[um, brilh, de, amor, cheg, na, ilha, inteir, ...</td>\n",
       "    </tr>\n",
       "    <tr>\n",
       "      <th>9</th>\n",
       "      <td>Zero a Dez (part. Luan Santana)</td>\n",
       "      <td>Ivete Sangalo</td>\n",
       "      <td>Numa escala zero a dez, eu te dou cem. E cem ...</td>\n",
       "      <td>axe</td>\n",
       "      <td>2</td>\n",
       "      <td>[numa, escala, zero, dez, eu, te, dou, cem, ce...</td>\n",
       "      <td>[num, escal, zer, dez, eu, te, dou, cem, cem, ...</td>\n",
       "    </tr>\n",
       "  </tbody>\n",
       "</table>\n",
       "</div>"
      ],
      "text/plain": [
       "                            titulo          artista  \\\n",
       "0                 10 Beijos de Rua      Léo Santana   \n",
       "1            Quando a Chuva Passar    Ivete Sangalo   \n",
       "2                             Anjo  Saulo Fernandes   \n",
       "3                      O Que Seria  Carlinhos Brown   \n",
       "4           Um Sinal (part. Melim)    Ivete Sangalo   \n",
       "5  Se Eu Não Te Amasse Tanto Assim    Ivete Sangalo   \n",
       "6            O Mais Belo Dos Belos  Daniela Mercury   \n",
       "7                              Eva        Banda Eva   \n",
       "8                   Flor do Reggae    Ivete Sangalo   \n",
       "9  Zero a Dez (part. Luan Santana)    Ivete Sangalo   \n",
       "\n",
       "                                               letra genero  genero_num  \\\n",
       "0   Acabou outra vez. Foi cena repetida. Um tchau...    axe           2   \n",
       "1   Pra que falar. Se você não quer me ouvir. Fug...    axe           2   \n",
       "2   Hoje eu acordei mais cedo. E fiquei te olhand...    axe           2   \n",
       "3   Quem sabe nem era pra ser nossa. Aquela lua a...    axe           2   \n",
       "4   Eu jamais quis deixar você ir. Mas quem de nó...    axe           2   \n",
       "5   Meu coração, sem direção. Voando só por voar....    axe           2   \n",
       "6   Quem é que sobe a ladeira do Curuzu. E a cois...    axe           2   \n",
       "7   Meu amor, olha só, hoje o sol não apareceu. É...    axe           2   \n",
       "8   Um brilho de amor chegou. Na ilha inteira. E ...    axe           2   \n",
       "9   Numa escala zero a dez, eu te dou cem. E cem ...    axe           2   \n",
       "\n",
       "                                    letra_tokenizada  \\\n",
       "0  [acabou, outra, vez, foi, cena, repetida, um, ...   \n",
       "1  [pra, que, falar, se, voce, nao, quer, me, ouv...   \n",
       "2  [hoje, eu, acordei, mais, cedo, fiquei, te, ol...   \n",
       "3  [quem, sabe, nem, era, pra, ser, nossa, aquela...   \n",
       "4  [eu, jamais, quis, deixar, voce, ir, mas, quem...   \n",
       "5  [meu, coracao, sem, direcao, voando, so, por, ...   \n",
       "6  [quem, que, sobe, ladeira, do, curuzu, coisa, ...   \n",
       "7  [meu, amor, olha, so, hoje, sol, nao, apareceu...   \n",
       "8  [um, brilho, de, amor, chegou, na, ilha, intei...   \n",
       "9  [numa, escala, zero, dez, eu, te, dou, cem, ce...   \n",
       "\n",
       "                                      stemmed_tokens  \n",
       "0  [acab, outr, vez, foi, cen, repet, um, tchau, ...  \n",
       "1  [pra, que, fal, se, voc, nao, quer, me, ouv, f...  \n",
       "2  [hoj, eu, acord, mais, ced, fiqu, te, olhand, ...  \n",
       "3  [quem, sab, nem, era, pra, ser, noss, aquel, l...  \n",
       "4  [eu, jam, quis, deix, voc, ir, mas, quem, de, ...  \n",
       "5  [meu, coraca, sem, direca, voand, so, por, voa...  \n",
       "6  [quem, que, sob, ladeir, do, curuzu, cois, mai...  \n",
       "7  [meu, amor, olha, so, hoj, sol, nao, aparec, f...  \n",
       "8  [um, brilh, de, amor, cheg, na, ilha, inteir, ...  \n",
       "9  [num, escal, zer, dez, eu, te, dou, cem, cem, ...  "
      ]
     },
     "execution_count": 53,
     "metadata": {},
     "output_type": "execute_result"
    }
   ],
   "source": [
    "port_stemmer = PortugueseStemmer()\n",
    "data_model['stemmed_tokens'] = [[port_stemmer.stem(word) for word in tokens] for tokens in data_model['letra_tokenizada'] ]\n",
    "data_model.head(10)"
   ]
  },
  {
   "cell_type": "markdown",
   "metadata": {},
   "source": [
    "### Definição dos conjuntos de treino e teste"
   ]
  },
  {
   "cell_type": "code",
   "execution_count": 54,
   "metadata": {},
   "outputs": [
    {
     "name": "stdout",
     "output_type": "stream",
     "text": [
      "Contando os valores para os generos do conjunto de treino:\n",
      "6    711\n",
      "1    710\n",
      "4    708\n",
      "0    705\n",
      "3    702\n",
      "5    697\n",
      "2    689\n",
      "7    678\n",
      "Name: genero_num, dtype: int64\n",
      "Contando os valores para os generos do conjunto de teste:\n",
      "7    322\n",
      "2    311\n",
      "5    303\n",
      "3    298\n",
      "0    295\n",
      "4    292\n",
      "1    290\n",
      "6    289\n",
      "Name: genero_num, dtype: int64\n",
      "<class 'pandas.core.frame.DataFrame'>\n",
      "<class 'pandas.core.series.Series'>\n"
     ]
    }
   ],
   "source": [
    "X_train, X_test, Y_train, Y_test = split_train_test(data_model, \n",
    "                                                    target='genero_num')"
   ]
  },
  {
   "cell_type": "markdown",
   "metadata": {},
   "source": [
    "### Word2Vec"
   ]
  },
  {
   "cell_type": "code",
   "execution_count": 55,
   "metadata": {},
   "outputs": [
    {
     "name": "stdout",
     "output_type": "stream",
     "text": [
      "Tempo para treinar o word2vec:  91.01488184928894 segundos\n"
     ]
    }
   ],
   "source": [
    "size = 1000\n",
    "window = 3\n",
    "min_count = 1\n",
    "workers = 3\n",
    "sg = 1\n",
    "\n",
    "OUTPUT_FOLDER = 'output_folder'\n",
    "\n",
    "word2vec_model_file = OUTPUT_FOLDER + '/' + 'word2vec_' + str(size) + '.model'\n",
    "start_time = time.time()\n",
    "stemmed_tokens = pd.Series(data_model['stemmed_tokens']).values\n",
    "\n",
    "# treinando o Word2Vec\n",
    "w2v_model = Word2Vec(stemmed_tokens, \n",
    "                     min_count = min_count, \n",
    "                     size = size, \n",
    "                     workers = workers, \n",
    "                     window = window, \n",
    "                     sg = sg)\n",
    "\n",
    "print(\"Tempo para treinar o word2vec: \", str(time.time() - start_time), 'segundos')\n",
    "w2v_model.save(word2vec_model_file)"
   ]
  },
  {
   "cell_type": "markdown",
   "metadata": {},
   "source": [
    "Carregando o modelo já treinado e acessando seu dicionário:"
   ]
  },
  {
   "cell_type": "code",
   "execution_count": 56,
   "metadata": {},
   "outputs": [
    {
     "name": "stdout",
     "output_type": "stream",
     "text": [
      "Index da palavra 'deus': 40\n",
      "Número total de palavras: 21975\n",
      "Tamanho do vetor gerado por uma palavra: 1000\n"
     ]
    },
    {
     "name": "stderr",
     "output_type": "stream",
     "text": [
      "<ipython-input-56-ac8ee0d0bd71>:8: DeprecationWarning: Call to deprecated `__getitem__` (Method will be removed in 4.0.0, use self.wv.__getitem__() instead).\n",
      "  print(\"Tamanho do vetor gerado por uma palavra:\", len(sg_w2v_model['deus']))\n"
     ]
    }
   ],
   "source": [
    "sg_w2v_model = Word2Vec.load(word2vec_model_file)\n",
    "\n",
    "# index de uma palavra\n",
    "print(\"Index da palavra 'deus':\", sg_w2v_model.wv.vocab[\"deus\"].index)\n",
    "\n",
    "print('Número total de palavras:',len(sg_w2v_model.wv.vocab))\n",
    "\n",
    "print(\"Tamanho do vetor gerado por uma palavra:\", len(sg_w2v_model['deus']))"
   ]
  },
  {
   "cell_type": "markdown",
   "metadata": {},
   "source": [
    "Gerando vetores Word2Vec:"
   ]
  },
  {
   "cell_type": "code",
   "execution_count": 57,
   "metadata": {},
   "outputs": [
    {
     "name": "stderr",
     "output_type": "stream",
     "text": [
      "<ipython-input-57-6b9f0220ea27>:5: DeprecationWarning: Call to deprecated `__getitem__` (Method will be removed in 4.0.0, use self.wv.__getitem__() instead).\n",
      "  model_vector = (np.mean([sg_w2v_model[token] for token in row['stemmed_tokens']], axis=0)).tolist()\n"
     ]
    }
   ],
   "source": [
    "# armazenar os vetores de treino\n",
    "word2vec_filename = OUTPUT_FOLDER + '/' + 'train_review_word2vec.csv'\n",
    "with open(word2vec_filename, 'w+') as word2vec_file:\n",
    "    for index, row in X_train.iterrows():\n",
    "        model_vector = (np.mean([sg_w2v_model[token] for token in row['stemmed_tokens']], axis=0)).tolist()\n",
    "        if index == 0:\n",
    "            header = \",\".join(str(ele) for ele in range(1000))\n",
    "            word2vec_file.write(header)\n",
    "            word2vec_file.write(\"\\n\")\n",
    "        \n",
    "        if type(model_vector) is list:  \n",
    "            line1 = \",\".join( [str(vector_element) for vector_element in model_vector] )\n",
    "        else:\n",
    "            line1 = \",\".join([str(0) for i in range(1000)])\n",
    "        word2vec_file.write(line1)\n",
    "        word2vec_file.write('\\n')"
   ]
  },
  {
   "cell_type": "markdown",
   "metadata": {},
   "source": [
    "### Treinando o modelo de classificação usando vetores Word2Vec"
   ]
  },
  {
   "cell_type": "code",
   "execution_count": 59,
   "metadata": {},
   "outputs": [
    {
     "name": "stdout",
     "output_type": "stream",
     "text": [
      "Tempo levado para fitar o modelo a partir dos vetores word2vec: 27.954646348953247\n"
     ]
    }
   ],
   "source": [
    "# carregando do arquivo\n",
    "word2vec_df = pd.read_csv(word2vec_filename)\n",
    "\n",
    "# inicializando o modelo\n",
    "clf_rf_word2vec = RandomForestClassifier(criterion='entropy')\n",
    "\n",
    "start_time = time.time()\n",
    "# fitando o modelo\n",
    "clf_rf_word2vec.fit(word2vec_df, Y_train['genero_num'])\n",
    "print(\"Tempo levado para fitar o modelo a partir dos vetores word2vec: \" + str(time.time() - start_time))"
   ]
  },
  {
   "cell_type": "markdown",
   "metadata": {},
   "source": [
    "### Testando o modelo de classificação"
   ]
  },
  {
   "cell_type": "code",
   "execution_count": 60,
   "metadata": {},
   "outputs": [
    {
     "name": "stderr",
     "output_type": "stream",
     "text": [
      "<ipython-input-60-a5c66e8dc35b>:3: DeprecationWarning: Call to deprecated `__getitem__` (Method will be removed in 4.0.0, use self.wv.__getitem__() instead).\n",
      "  model_vector = np.mean([sg_w2v_model[token] for token in row['stemmed_tokens']], axis=0)\n"
     ]
    }
   ],
   "source": [
    "test_features_word2vec = []\n",
    "for index, row in X_test.iterrows():\n",
    "    model_vector = np.mean([sg_w2v_model[token] for token in row['stemmed_tokens']], axis=0)\n",
    "    test_features_word2vec.append(model_vector)\n",
    "        \n",
    "# test_predictions_word2vec = clf_rf_word2vec.predict(test_features_word2vec)\n",
    "# print(classification_report(Y_test['genero_bin'],test_predictions_word2vec))"
   ]
  },
  {
   "cell_type": "code",
   "execution_count": 61,
   "metadata": {},
   "outputs": [
    {
     "name": "stdout",
     "output_type": "stream",
     "text": [
      "Classification Report\n",
      "              precision    recall  f1-score   support\n",
      "\n",
      "           0       0.78      0.90      0.84       295\n",
      "           1       0.35      0.39      0.37       290\n",
      "           2       0.55      0.40      0.46       311\n",
      "           3       0.40      0.27      0.32       298\n",
      "           4       0.38      0.47      0.42       292\n",
      "           5       0.40      0.34      0.37       303\n",
      "           6       0.54      0.56      0.55       289\n",
      "           7       0.61      0.72      0.66       322\n",
      "\n",
      "    accuracy                           0.51      2400\n",
      "   macro avg       0.50      0.51      0.50      2400\n",
      "weighted avg       0.50      0.51      0.50      2400\n",
      "\n",
      "Accuracy Score: 0.5070833333333333\n",
      "f1 Score: 0.49852726794569396\n",
      "Confusion matrix, without normalization\n",
      "[[266   4   5   2   5   3  10   0]\n",
      " [ 12 112   9  40  63  17  14  23]\n",
      " [ 13  15 124  14  44  32  29  40]\n",
      " [  5  77  12  80  47  29  12  36]\n",
      " [  9  56  15  25 138  27   6  16]\n",
      " [ 20  16  19  15  38 104  61  30]\n",
      " [ 10  15  29  14  12  42 161   6]\n",
      " [  6  28  11  11  19   9   6 232]]\n"
     ]
    },
    {
     "data": {
      "image/png": "[encoded data removed]",
      "text/plain": [
       "<Figure size 432x288 with 2 Axes>"
      ]
     },
     "metadata": {
      "needs_background": "light"
     },
     "output_type": "display_data"
    }
   ],
   "source": [
    "clf_eval(clf_rf_word2vec,\n",
    "         test_features_word2vec, \n",
    "         Y_test['genero_num'], \n",
    "         classes=list(range(8)))"
   ]
  },
  {
   "cell_type": "markdown",
   "metadata": {},
   "source": [
    "Como vemos acima, a performance do modelo variou muito de acordo com o gênero musical em questão. Ao transformar a variável categórica \"genero\" em numérica, tive o cuidado de pensar nas distâncias entre os gêneros. Ou seja, para mim, os mais distantes entre si são gospel e funk, portanto, \"gospel\" se tornou 0 e \"funk\" foi transformado em 7. \n",
    "Podemos ver que estes dois gêneros foram justamente os que apresentaram melhor resultado."
   ]
  },
  {
   "cell_type": "markdown",
   "metadata": {},
   "source": [
    "No geral, a pior performance foi do genero forró (3). De fato, suas letras podem ser facilmente confundidas com sertanejo (1), pagode (4) e até mesmo funk (7). A performance para samba (5) também não foi muito satisfatória. Acredito que isso possa ser devido ao fato de que este gênero possui aspectos musicais muito próximos da bossa nova e do pagode e, consequentemente, essa proximidade musical pode acabar se refletindo nas letras.\n",
    "\n",
    "A performance para o pagode (4) foi bastante afetada pelo sertanejo (1). Na minha opinião, isso pode ter acontecido porque estes dois gêneros costumam tratar de temáticas muito parecidas"
   ]
  },
  {
   "cell_type": "code",
   "execution_count": null,
   "metadata": {},
   "outputs": [],
   "source": [
    "genero_map_dict = {'gospel':0,\n",
    "                   'sertanejo':1,\n",
    "                   'axe':2, \n",
    "                   'forro':3, \n",
    "                   'pagode':4, \n",
    "                   'samba':5, \n",
    "                   'bossa':6,\n",
    "                   'funk':7}"
   ]
  },
  {
   "cell_type": "code",
   "execution_count": null,
   "metadata": {},
   "outputs": [],
   "source": []
  },
  {
   "cell_type": "code",
   "execution_count": null,
   "metadata": {},
   "outputs": [],
   "source": []
  }
 ],
 "metadata": {
  "kernelspec": {
   "display_name": "Python 3",
   "language": "python",
   "name": "python3"
  },
  "language_info": {
   "codemirror_mode": {
    "name": "ipython",
    "version": 3
   },
   "file_extension": ".py",
   "mimetype": "text/x-python",
   "name": "python",
   "nbconvert_exporter": "python",
   "pygments_lexer": "ipython3",
   "version": "3.8.5"
  }
 },
 "nbformat": 4,
 "nbformat_minor": 4
}
